{
 "cells": [
  {
   "cell_type": "markdown",
   "metadata": {
    "id": "lWq4aXwsnFc4"
   },
   "source": [
    "# AI Revolutionizing Retail: A/B Testing and Optimization Strategies\n",
    "\n",
    "In this part of our webinar, we will dive into a practical demonstration that showcases the application of A/B testing within the retail sector, powered by AI. We'll be using a Python notebook for our demonstration, making it easy for our viewers to follow along and apply these strategies in their own retail businesses.\n",
    "\n",
    "## Steps We Will Follow:\n",
    "\n",
    "1. **Calculate Minimum Detectable Effect (MDE) to Define the Sample Size**\n",
    "   - We start with a population of 1,000,000 customers. Our objective is to determine the optimal sample size for our A/B test. This is crucial for ensuring that our test results are statistically significant without wasting resources.\n",
    "   - To achieve this, we will make iterative random splits of our population (5%, 10%, 15%, ..., up to 50%) to forecast the Minimum Detectable Effect (MDE) at each level. The MDE is the smallest effect size that our test is capable of detecting, given our sample size.\n",
    "   - We will perform this calculation 30 times per sample split to ensure that the average MDE value we obtain is a reliable representation of reality. This iterative approach helps us identify the \"best value\" sample size – large enough to detect meaningful differences, yet efficient in terms of resource allocation.\n",
    "\n",
    "2. **Random Split for A/B Testing**\n",
    "   - Once we've identified the optimal sample size based on our MDE calculations, the next step is to create our A/B test groups. We will randomly split our population into two groups: the control group (Group A) and the experimental group (Group B).\n",
    "   - This randomization ensures that each group is similar in all respects except for the variable we are testing, which in this case could be anything from a new marketing message to a personalized product recommendation system powered by AI.\n",
    "\n",
    "3. **Perform a KS Test and Equivalence Test**\n",
    "   - To validate our A/B testing results, we will employ two statistical tests: the Kolmogorov-Smirnov (KS) test and an equivalence test.\n",
    "   - **KS Test:** This non-parametric test allows us to compare the distributions of our two groups and determine if there is a statistical difference between them. It's particularly useful for evaluating the effect of our tested variable across the entire distribution of customer behaviors or outcomes.\n",
    "   - **Equivalence Test:** While traditional tests assess if two groups are significantly different, an equivalence test determines if they are statistically similar to a specified degree. This is especially valuable when our goal is to show that changes made to the experimental group do not adversely affect the desired outcome, ensuring that any new strategies we implement are at least as effective as the current ones.\n",
    "\n",
    "By following these steps, we'll not only understand how to effectively set up and analyze an A/B test but also ensure that our testing process is robust and tailored to detect meaningful insights in the retail context. This hands-on demonstration will equip participants with the knowledge to leverage AI for optimizing their retail strategies through data-driven decision-making."
   ]
  },
  {
   "cell_type": "code",
   "execution_count": 1,
   "metadata": {},
   "outputs": [],
   "source": [
    "# Library\n",
    "import random\n",
    "import pandas as pd\n",
    "import numpy as np\n",
    "import statsmodels.api as sm\n",
    "import matplotlib.pyplot as plt\n",
    "from sklearn.model_selection import train_test_split\n",
    "from scipy.stats import ttest_ind, norm, ks_2samp\n",
    "from statsmodels.stats.power import TTestIndPower"
   ]
  },
  {
   "cell_type": "code",
   "execution_count": 2,
   "metadata": {
    "id": "7ypuXAI9IR1J"
   },
   "outputs": [],
   "source": [
    "# Generate a list of 100000 random fake users between 1 and 100000\n",
    "population = 1000000\n",
    "\n",
    "# Create the synthetic data for the ab testing example\n",
    "population_data = [random.randint(1, 100) for _ in range(population)]\n",
    "\n",
    "# Convert it into \n",
    "df = pd.DataFrame({'price':population_data})"
   ]
  },
  {
   "cell_type": "code",
   "execution_count": 3,
   "metadata": {},
   "outputs": [
    {
     "data": {
      "text/html": [
       "<div>\n",
       "<style scoped>\n",
       "    .dataframe tbody tr th:only-of-type {\n",
       "        vertical-align: middle;\n",
       "    }\n",
       "\n",
       "    .dataframe tbody tr th {\n",
       "        vertical-align: top;\n",
       "    }\n",
       "\n",
       "    .dataframe thead th {\n",
       "        text-align: right;\n",
       "    }\n",
       "</style>\n",
       "<table border=\"1\" class=\"dataframe\">\n",
       "  <thead>\n",
       "    <tr style=\"text-align: right;\">\n",
       "      <th></th>\n",
       "      <th>price</th>\n",
       "    </tr>\n",
       "  </thead>\n",
       "  <tbody>\n",
       "    <tr>\n",
       "      <th>0</th>\n",
       "      <td>83</td>\n",
       "    </tr>\n",
       "    <tr>\n",
       "      <th>1</th>\n",
       "      <td>36</td>\n",
       "    </tr>\n",
       "    <tr>\n",
       "      <th>2</th>\n",
       "      <td>6</td>\n",
       "    </tr>\n",
       "    <tr>\n",
       "      <th>3</th>\n",
       "      <td>79</td>\n",
       "    </tr>\n",
       "    <tr>\n",
       "      <th>4</th>\n",
       "      <td>54</td>\n",
       "    </tr>\n",
       "  </tbody>\n",
       "</table>\n",
       "</div>"
      ],
      "text/plain": [
       "   price\n",
       "0     83\n",
       "1     36\n",
       "2      6\n",
       "3     79\n",
       "4     54"
      ]
     },
     "execution_count": 3,
     "metadata": {},
     "output_type": "execute_result"
    }
   ],
   "source": [
    "df.head()"
   ]
  },
  {
   "cell_type": "markdown",
   "metadata": {},
   "source": [
    "## Understanding Minimum Detectable Effect (MDE) Calculation\n",
    "\n",
    "In the context of A/B testing, especially in retail or any other domain, determining the Minimum Detectable Effect (MDE) is crucial for designing experiments that are both practical and informative. The MDE tells us the smallest effect size that our test is powered to detect given a specific sample size, significance level (\\(\\alpha\\)), and statistical power (\\(1 - \\beta\\)).\n",
    "\n",
    "### The Process Explained\n",
    "\n",
    "1. **Initialization**: We start with a dataset and decide on the fractions of this dataset that we want to test. These fractions range from 5% to 50% in increments of 5%. For each fraction, we aim to calculate the MDE to understand how changing the size of our sample affects our ability to detect meaningful differences between two groups (e.g., a control group and a treatment group).\n",
    "\n",
    "\n",
    "2. **Simulation Loop**: For each fraction:\n",
    "   - The dataset is split into a test and control group based on the current fraction size.\n",
    "   - We perform this split 30 times to mitigate the randomness effect and take the average, ensuring our MDE calculations are robust and reliable.\n",
    "\n",
    "\n",
    "3. **MDE Calculation**:\n",
    "   - For each split, we calculate the standard deviation of the test and control groups and then calculate a pooled standard deviation. This pooled standard deviation helps to estimate the common standard deviation between the two groups as if they were a single group.\n",
    "   - The MDE is calculated using the formula provided below. This formula considers the significance level, the desired power of the test, and the pooled standard deviation to compute the smallest effect size that the test can reliably detect.\n",
    "\n",
    "\n",
    "4. **Visualization**:\n",
    "   - After calculating the MDE for each fraction, we plot these values against the sample size. This visual representation helps to understand the relationship between sample size and the detectability of effects, guiding the planning of future A/B tests.\n",
    "\n",
    "\n",
    "### The Formula for MDE\n",
    "\n",
    "The MDE is calculated using the following formula:\n",
    "\n",
    "$$\n",
    "\\text{MDE} = (z_{\\alpha/2} + z_{\\beta}) \\times \\text{Pooled Standard Deviation} \\times \\sqrt{\\frac{2}{n}}\n",
    "$$\n",
    "\n",
    "Where:\n",
    "- $z_{\\alpha/2}$ is the critical value from the standard normal distribution for a two-tailed test at significance level $\\alpha$.\n",
    "- $z_{\\beta}$ is the critical value that corresponds to the desired power (\\(1 - \\beta\\)).\n",
    "- The pooled standard deviation is an estimate of the common standard deviation of the two groups.\n",
    "- \\(n\\) is the sample size of the control group.\n",
    "\n",
    "### Key Takeaways\n",
    "\n",
    "- The MDE is a crucial metric in the planning phase of an A/B test. It helps determine the necessary sample size to detect an effect of interest reliably.\n",
    "- Understanding the relationship between sample size and MDE can help businesses and researchers design more efficient and effective experiments.\n",
    "\n",
    "This explanation and the accompanying Python script aim to demystify the process of calculating the MDE, making it accessible for individuals planning to conduct A/B tests in various domains.\n"
   ]
  },
  {
   "cell_type": "code",
   "execution_count": 10,
   "metadata": {},
   "outputs": [],
   "source": [
    "# Initialize variables\n",
    "contador = 0  # This will track the fraction of the dataset allocated to the test group\n",
    "data = {}  # To store results\n",
    "\n",
    "# Loop to calculate MDE for splits ranging from 5% to 50% of the dataset\n",
    "while contador <= 0.45:\n",
    "    contador += 0.05  # Increment the fraction for each iteration\n",
    "    mde_list = []  # To store MDE values for each iteration\n",
    "    avg_list = []  # To store average values for the control group\n",
    "    \n",
    "    # Perform 30 simulations for each split to average the MDE\n",
    "    for i in range(1, 31):\n",
    "        # Randomly split the dataset into test and control groups based on the current fraction\n",
    "        test_df, control_df = train_test_split(df, test_size=contador)\n",
    "        \n",
    "        # Define the parameters for the MDE calculation\n",
    "        alpha = 0.05  # Significance level\n",
    "        beta = 0.8    # Desired statistical power\n",
    "        \n",
    "        # Calculate standard deviations for both groups\n",
    "        std_dev_test = np.std(test_df['price'])\n",
    "        std_dev_control = np.std(control_df['price'])\n",
    "        \n",
    "        # Calculate sample sizes\n",
    "        sample_size_control = len(control_df)\n",
    "        sample_size_test = len(test_df)\n",
    "        \n",
    "        # Calculate critical values for the two-tailed test\n",
    "        z_alpha = norm.ppf(1 - alpha/2)\n",
    "        z_beta = norm.ppf(beta)\n",
    "        \n",
    "        # Calculate pooled standard deviation\n",
    "        pooled_std_dev = np.sqrt(((sample_size_control - 1) * std_dev_control**2 + \n",
    "                                  (sample_size_test - 1) * std_dev_test**2) / \n",
    "                                 (sample_size_control + sample_size_test - 2))\n",
    "        \n",
    "        # Calculate the MDE\n",
    "        mde = (z_alpha + z_beta) * pooled_std_dev * np.sqrt(2 / sample_size_control)\n",
    "        \n",
    "        # Append the MDE and average control group price to their respective lists\n",
    "        mde_list.append(mde)\n",
    "        avg = np.mean(control_df['price'])\n",
    "        avg_list.append(avg)\n",
    "    \n",
    "    # Calculate and store the average MDE, average price, and MDE percentage for the current split\n",
    "    data[(round(contador, 2))] = {'mde': round(np.mean(mde_list), 4),\n",
    "                                  'avg': round(np.mean(avg_list), 4),\n",
    "                                  'mde_%': round(np.mean(mde_list) / np.mean(avg_list) * 100, 2)}"
   ]
  },
  {
   "cell_type": "code",
   "execution_count": 11,
   "metadata": {},
   "outputs": [
    {
     "data": {
      "text/plain": [
       "{0.05: {'mde': 0.5112, 'avg': 50.4811, 'mde_%': 1.01},\n",
       " 0.1: {'mde': 0.3615, 'avg': 50.4974, 'mde_%': 0.72},\n",
       " 0.15: {'mde': 0.2951, 'avg': 50.5342, 'mde_%': 0.58},\n",
       " 0.2: {'mde': 0.2556, 'avg': 50.5061, 'mde_%': 0.51},\n",
       " 0.25: {'mde': 0.2286, 'avg': 50.4776, 'mde_%': 0.45},\n",
       " 0.3: {'mde': 0.2087, 'avg': 50.499, 'mde_%': 0.41},\n",
       " 0.35: {'mde': 0.1932, 'avg': 50.5055, 'mde_%': 0.38},\n",
       " 0.4: {'mde': 0.1807, 'avg': 50.4979, 'mde_%': 0.36},\n",
       " 0.45: {'mde': 0.1704, 'avg': 50.5012, 'mde_%': 0.34},\n",
       " 0.5: {'mde': 0.1617, 'avg': 50.4891, 'mde_%': 0.32}}"
      ]
     },
     "execution_count": 11,
     "metadata": {},
     "output_type": "execute_result"
    }
   ],
   "source": [
    "# Computed value for the sample selected\n",
    "data"
   ]
  },
  {
   "cell_type": "code",
   "execution_count": 12,
   "metadata": {
    "scrolled": false
   },
   "outputs": [
    {
     "data": {
      "image/png": "[encoded data removed]",
      "text/plain": [
       "<Figure size 640x480 with 1 Axes>"
      ]
     },
     "metadata": {},
     "output_type": "display_data"
    }
   ],
   "source": [
    "# Prepare data for plotting\n",
    "percentage_split = [float(key)*100 for key in data.keys()]  # Convert keys to float and multiply by 100 to get percentages\n",
    "mde_percentage_list_hist = [value['mde_%'] for value in data.values()]  # Extract MDE percentages\n",
    "\n",
    "# Plotting\n",
    "plt.plot(percentage_split, mde_percentage_list_hist, marker='o')  # 'o' adds markers to the line plot\n",
    "plt.title('Line Plot of MDE Percentages')\n",
    "plt.xlabel('Sample Percentage (%)')  # Updated to display counter percentage of the sample\n",
    "plt.ylabel('MDE Percentage')\n",
    "\n",
    "# Show the plot\n",
    "plt.show()"
   ]
  },
  {
   "cell_type": "code",
   "execution_count": 13,
   "metadata": {
    "id": "02jIuRGmLyUS"
   },
   "outputs": [],
   "source": [
    "# We run the split with 30% in test, as per the MDE curve we think it is the most optimal business<>statistical\n",
    "test_df, control_df = train_test_split(df, test_size=0.3)"
   ]
  },
  {
   "cell_type": "code",
   "execution_count": 14,
   "metadata": {
    "scrolled": false
   },
   "outputs": [
    {
     "data": {
      "text/html": [
       "<div>\n",
       "<style scoped>\n",
       "    .dataframe tbody tr th:only-of-type {\n",
       "        vertical-align: middle;\n",
       "    }\n",
       "\n",
       "    .dataframe tbody tr th {\n",
       "        vertical-align: top;\n",
       "    }\n",
       "\n",
       "    .dataframe thead th {\n",
       "        text-align: right;\n",
       "    }\n",
       "</style>\n",
       "<table border=\"1\" class=\"dataframe\">\n",
       "  <thead>\n",
       "    <tr style=\"text-align: right;\">\n",
       "      <th></th>\n",
       "      <th>price</th>\n",
       "    </tr>\n",
       "  </thead>\n",
       "  <tbody>\n",
       "    <tr>\n",
       "      <th>63641</th>\n",
       "      <td>11</td>\n",
       "    </tr>\n",
       "    <tr>\n",
       "      <th>765690</th>\n",
       "      <td>27</td>\n",
       "    </tr>\n",
       "    <tr>\n",
       "      <th>708762</th>\n",
       "      <td>90</td>\n",
       "    </tr>\n",
       "    <tr>\n",
       "      <th>954169</th>\n",
       "      <td>30</td>\n",
       "    </tr>\n",
       "    <tr>\n",
       "      <th>485061</th>\n",
       "      <td>51</td>\n",
       "    </tr>\n",
       "    <tr>\n",
       "      <th>...</th>\n",
       "      <td>...</td>\n",
       "    </tr>\n",
       "    <tr>\n",
       "      <th>780292</th>\n",
       "      <td>93</td>\n",
       "    </tr>\n",
       "    <tr>\n",
       "      <th>178444</th>\n",
       "      <td>36</td>\n",
       "    </tr>\n",
       "    <tr>\n",
       "      <th>882349</th>\n",
       "      <td>29</td>\n",
       "    </tr>\n",
       "    <tr>\n",
       "      <th>827408</th>\n",
       "      <td>65</td>\n",
       "    </tr>\n",
       "    <tr>\n",
       "      <th>956522</th>\n",
       "      <td>1</td>\n",
       "    </tr>\n",
       "  </tbody>\n",
       "</table>\n",
       "<p>700000 rows × 1 columns</p>\n",
       "</div>"
      ],
      "text/plain": [
       "        price\n",
       "63641      11\n",
       "765690     27\n",
       "708762     90\n",
       "954169     30\n",
       "485061     51\n",
       "...       ...\n",
       "780292     93\n",
       "178444     36\n",
       "882349     29\n",
       "827408     65\n",
       "956522      1\n",
       "\n",
       "[700000 rows x 1 columns]"
      ]
     },
     "execution_count": 14,
     "metadata": {},
     "output_type": "execute_result"
    }
   ],
   "source": [
    "test_df"
   ]
  },
  {
   "cell_type": "code",
   "execution_count": 15,
   "metadata": {},
   "outputs": [
    {
     "data": {
      "text/html": [
       "<div>\n",
       "<style scoped>\n",
       "    .dataframe tbody tr th:only-of-type {\n",
       "        vertical-align: middle;\n",
       "    }\n",
       "\n",
       "    .dataframe tbody tr th {\n",
       "        vertical-align: top;\n",
       "    }\n",
       "\n",
       "    .dataframe thead th {\n",
       "        text-align: right;\n",
       "    }\n",
       "</style>\n",
       "<table border=\"1\" class=\"dataframe\">\n",
       "  <thead>\n",
       "    <tr style=\"text-align: right;\">\n",
       "      <th></th>\n",
       "      <th>price</th>\n",
       "    </tr>\n",
       "  </thead>\n",
       "  <tbody>\n",
       "    <tr>\n",
       "      <th>526139</th>\n",
       "      <td>4</td>\n",
       "    </tr>\n",
       "    <tr>\n",
       "      <th>527883</th>\n",
       "      <td>8</td>\n",
       "    </tr>\n",
       "    <tr>\n",
       "      <th>415184</th>\n",
       "      <td>80</td>\n",
       "    </tr>\n",
       "    <tr>\n",
       "      <th>901897</th>\n",
       "      <td>34</td>\n",
       "    </tr>\n",
       "    <tr>\n",
       "      <th>744098</th>\n",
       "      <td>27</td>\n",
       "    </tr>\n",
       "    <tr>\n",
       "      <th>...</th>\n",
       "      <td>...</td>\n",
       "    </tr>\n",
       "    <tr>\n",
       "      <th>759736</th>\n",
       "      <td>76</td>\n",
       "    </tr>\n",
       "    <tr>\n",
       "      <th>820878</th>\n",
       "      <td>30</td>\n",
       "    </tr>\n",
       "    <tr>\n",
       "      <th>62220</th>\n",
       "      <td>74</td>\n",
       "    </tr>\n",
       "    <tr>\n",
       "      <th>844802</th>\n",
       "      <td>86</td>\n",
       "    </tr>\n",
       "    <tr>\n",
       "      <th>673809</th>\n",
       "      <td>66</td>\n",
       "    </tr>\n",
       "  </tbody>\n",
       "</table>\n",
       "<p>300000 rows × 1 columns</p>\n",
       "</div>"
      ],
      "text/plain": [
       "        price\n",
       "526139      4\n",
       "527883      8\n",
       "415184     80\n",
       "901897     34\n",
       "744098     27\n",
       "...       ...\n",
       "759736     76\n",
       "820878     30\n",
       "62220      74\n",
       "844802     86\n",
       "673809     66\n",
       "\n",
       "[300000 rows x 1 columns]"
      ]
     },
     "execution_count": 15,
     "metadata": {},
     "output_type": "execute_result"
    }
   ],
   "source": [
    "control_df"
   ]
  },
  {
   "cell_type": "markdown",
   "metadata": {},
   "source": [
    "### Performing the Kolmogorov-Smirnov Test\n",
    "\n",
    "After splitting our dataset into control and test groups, we focus on comparing their distributions to assess if they differ significantly. This step is crucial for validating the assumptions of our A/B testing framework and ensuring the reliability of our results.\n",
    "\n",
    "#### Selecting the Data\n",
    "\n",
    "We begin by selecting the relevant data from each group. Specifically, we extract the `price` column from both the control and test DataFrames. These columns represent the variable of interest for our analysis, such as the outcome of a marketing strategy, product pricing impact, or any other metric crucial to our A/B test.\n",
    "\n",
    "```python\n",
    "data1 = control_df['price']  # Extracting price data from the control group\n",
    "data2 = test_df['price']  # Extracting price data from the test group\n",
    "```\n",
    "**Conducting the Kolmogorov-Smirnov (KS) Test**\n",
    "With our data selected, we proceed to conduct the Kolmogorov-Smirnov (KS) test. This non-parametric test assesses the hypothesis that the distributions of two samples are the same. It is particularly useful in A/B testing for comparing the outcome distributions from our control and test groups without making assumptions about the underlying data distribution.\n",
    "\n",
    "The KS test provides two key pieces of information:\n",
    "\n",
    "- The KS statistic: A measure of the distance between the empirical distribution functions of the two samples.\n",
    "- The p-value: Indicates the probability of observing the data assuming the null hypothesis is true. A low p-value (typically < 0.05) suggests that we can reject the null hypothesis and conclude that the distributions of the two samples are significantly different.\n",
    "\n",
    "```python\n",
    "statistic, p_value = ks_2samp(data1, data2)\n",
    "print(f\"KS statistic: {statistic}\")\n",
    "print(f\"P-value: {p_value}\")\n",
    "```\n",
    "The outcome of the KS test helps us understand whether the interventions or changes we're testing have a statistically significant impact on the distribution of our metric of interest, allowing us to make informed decisions based on our A/B testing results."
   ]
  },
  {
   "cell_type": "code",
   "execution_count": 20,
   "metadata": {
    "colab": {
     "base_uri": "https://localhost:8080/"
    },
    "id": "AWzOTqgG_w8f",
    "outputId": "db308d50-416b-4cc5-980d-b02d0529bff4"
   },
   "outputs": [
    {
     "name": "stdout",
     "output_type": "stream",
     "text": [
      "KS statistic: 0.0019361904761905357\n",
      "P-value: 0.41002437142380155\n"
     ]
    }
   ],
   "source": [
    "# Selecting the data from each DataFrame\n",
    "data1 = control_df['price']  # We select the column price from our df\n",
    "data2 = test_df['price']  # We select the column price from our df\n",
    "\n",
    "# Perform the KS test\n",
    "statistic, p_value = ks_2samp(data1, data2)\n",
    "\n",
    "print(f\"KS statistic: {statistic}\")\n",
    "print(f\"P-value: {p_value}\")"
   ]
  },
  {
   "cell_type": "markdown",
   "metadata": {},
   "source": [
    "In this step, we're conducting an equivalence test between our control and test groups to determine if their means are statistically equivalent within predefined limits. The equivalence test is crucial for situations where we want to confirm that two groups do not differ by a meaningful amount, rather than simply looking for any difference.\n",
    "\n",
    "- **Defining Equivalence Limits**: The equivalence limits (`low` and `upp`) define the range within which the means of the two groups should lie to be considered equivalent. In this case, the limits are set to `-0.5` and `0.5`, meaning we are testing if the difference in means is meaningfully less than 0.5 units and more than -0.5 units in either direction.\n",
    "\n",
    "- **Performing the Equivalence Test**: We use the `ttost_ind` method from the `statsmodels` library, which performs a Two One-Sided Tests (TOST) for the means of two independent samples. This method returns three values:\n",
    "  - `pv1`: The p-value from the lower bound test, testing if the mean difference is significantly greater than the lower limit.\n",
    "  - `pv2`: The p-value from the upper bound test, testing if the mean difference is significantly less than the upper limit.\n",
    "  - `result`: A boolean value indicating whether both conditions are met, and thus if the means are equivalent within the specified limits.\n",
    "\n",
    "- **Interpreting the Results**: The output provides us with the p-values for both the lower and upper tests. If both p-values are below a chosen significance level (commonly 0.05), we can conclude that the means of the two groups are statistically equivalent within our defined limits.\n",
    "\n",
    "This approach allows for a nuanced understanding of the differences between the control and test groups, focusing on practical equivalence rather than just statistical difference.\n"
   ]
  },
  {
   "cell_type": "code",
   "execution_count": 21,
   "metadata": {
    "colab": {
     "base_uri": "https://localhost:8080/"
    },
    "id": "eXgGz6ptA2L-",
    "outputId": "4c7efd94-0942-4774-c7ca-7752c6e90c26"
   },
   "outputs": [
    {
     "name": "stdout",
     "output_type": "stream",
     "text": [
      "Global p-value of TOST: 7.363575601094532e-12\n",
      "Inferiority test (difference > lower margin): Statistic = 9.132599497765717, p-value = 3.3496524898810635e-20\n",
      "Superiority test (difference < upper margin): Statistic = -6.750642621308679, p-value = 7.363575601094532e-12\n",
      "There is enough statistical evidence to claim that the two group are equivalent within the specified equivalence margin.\n"
     ]
    }
   ],
   "source": [
    "# Define the equivalence limits\n",
    "low, upp = -0.5, 0.5 \n",
    "\n",
    "# Unpacking the results\n",
    "p_value_global, result_lower, result_upper = sm.stats.ttost_ind(data1, data2, low, upp)\n",
    "\n",
    "# Print the results\n",
    "print(f\"Global p-value of TOST: {p_value_global}\")\n",
    "print(f\"Inferiority test (difference > lower margin): Statistic = {result_lower[0]}, p-value = {result_lower[1]}\")\n",
    "print(f\"Superiority test (difference < upper margin): Statistic = {result_upper[0]}, p-value = {result_upper[1]}\")\n",
    "\n",
    "# Interpretation based on p-values\n",
    "if p_value_global < 0.05:\n",
    "    print(\"There is enough statistical evidence to claim that the two group are equivalent within the specified equivalence margin.\")\n",
    "else:\n",
    "    print(\"There is not enough evidence to claim that the two drugs are equivalent.\")"
   ]
  },
  {
   "cell_type": "markdown",
   "metadata": {
    "id": "IfbRwNQMg3Mh"
   },
   "source": [
    "#### Calculating Temporal Minimum Detectable Effect (MDE)\n",
    "\n",
    "When designing A/B tests or any data-driven experiment, understanding the Minimum Detectable Effect (MDE) over time can be crucial. The MDE represents the smallest effect size that the test is adequately powered to identify. As data accumulates and distributions stabilize over time, the MDE can decrease. This means that effects which may not be detectable with a smaller dataset (e.g., weekly data) might become apparent when analyzing a larger dataset collected over a longer period (e.g., monthly or quarterly data).\n",
    "\n",
    "**Understanding the Approach**\n",
    "\n",
    "In a scenario where consumer behavior is tracked over time, such as purchasing habits for a specific product (e.g., detergent), it's common not to observe significant changes within short time frames like a week. However, over a month or more, purchasing patterns can emerge more clearly.\n",
    "\n",
    "To accommodate this temporal aspect in our analysis, our dataset evolves to include multiple columns, each representing the cumulative average consumption over increasing time periods. For example:\n",
    "- Column 1 might represent the average consumption for January.\n",
    "- Column 2 could represent the cumulative average for January and February.\n",
    "- Column 3 would then include the cumulative average for January, February, and March, and so on.\n",
    "\n",
    "This structure allows us to observe how the average consumption stabilizes or changes as more data is accumulated over time.\n",
    "\n",
    "**Reapplying the MDE Calculation**\n",
    "\n",
    "With this temporal dataset structure, we can reapply our MDE calculation method. By iterating through the columns (each representing cumulative averages over different time periods), we perform the MDE calculation for each time slice. This iterative process is akin to the original approach where we calculated the MDE for different sample sizes. However, in this context, we're evaluating how the temporal extension of our data affects the MDE.\n",
    "\n",
    "**Visualizing the Temporal MDE**\n",
    "\n",
    "After recalculating the MDEs for each cumulative time period, we plot these values on a histogram. This visualization aids in selecting the optimal MDE and sample size (or, in this case, the time frame) for our experiment. The histogram will show us how the MDE decreases as the time frame widens, providing a clear picture of when our data becomes sufficiently robust to reliably detect the effects we're interested in."
   ]
  },
  {
   "cell_type": "markdown",
   "metadata": {},
   "source": [
    "## Performing a T-test on Two Data Sets\n",
    "\n",
    "In this section, we perform a t-test between two datasets, `data1` and `data2`. A t-test is a statistical test that is used to compare the means of two groups. It helps us understand if the differences between the two sets are statistically significant. This is particularly useful in A/B testing, where one group is often a control group and the other is a treatment group. \n",
    "\n",
    "The t-test has several assumptions:\n",
    "- The samples are independently and randomly drawn.\n",
    "- The distribution of the sample means is normal.\n",
    "- The variances of the two groups are equal."
   ]
  },
  {
   "cell_type": "code",
   "execution_count": 23,
   "metadata": {
    "id": "4tn6sLAzxmdn"
   },
   "outputs": [
    {
     "name": "stdout",
     "output_type": "stream",
     "text": [
      "T-statistic: 1.1909784382285158\n",
      "P-value: 0.233662332256153\n",
      "There is no significant difference between the two groups.\n"
     ]
    }
   ],
   "source": [
    "# Perform the t-test\n",
    "t_stat, p_value = ttest_ind(data1, data2)\n",
    "\n",
    "# Print the results\n",
    "print(f\"T-statistic: {t_stat}\")\n",
    "print(f\"P-value: {p_value}\")\n",
    "\n",
    "# Interpretation\n",
    "if p_value < 0.05:\n",
    "    print(\"There is a significant difference between the two groups.\")\n",
    "else:\n",
    "    print(\"There is no significant difference between the two groups.\")"
   ]
  },
  {
   "cell_type": "markdown",
   "metadata": {},
   "source": [
    "**Interpretation**\n",
    "- **T-statistic**: This value helps us understand the size of the difference relative to the variation in our sample data. A larger t-statistic indicates a greater difference between the groups.\n",
    "- **P-value**: This value tells us about the probability that we would see the observed difference (or more extreme) if there were no actual difference between the groups. A p-value less than 0.05 is typically considered to be statistically significant."
   ]
  }
 ],
 "metadata": {
  "colab": {
   "provenance": []
  },
  "kernelspec": {
   "display_name": "Python 3 (ipykernel)",
   "language": "python",
   "name": "python3"
  },
  "language_info": {
   "codemirror_mode": {
    "name": "ipython",
    "version": 3
   },
   "file_extension": ".py",
   "mimetype": "text/x-python",
   "name": "python",
   "nbconvert_exporter": "python",
   "pygments_lexer": "ipython3",
   "version": "3.1.-1"
  }
 },
 "nbformat": 4,
 "nbformat_minor": 1
}
