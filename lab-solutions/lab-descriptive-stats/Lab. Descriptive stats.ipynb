{
 "cells": [
  {
   "cell_type": "markdown",
   "metadata": {},
   "source": [
    "# Before you start :\n",
    "   - These exercises are related to the Subsetting and Descriptive Stats lessons.\n",
    "   - Keep in mind that you need to use some of the functions you learned in the previous lessons.\n",
    "   - All datasets are provided in the `your-code` folder of this lab.\n",
    "   - Elaborate your codes and outputs as much as you can.\n",
    "   - Try your best to answer the questions and complete the tasks and most importantly enjoy the process!!!"
   ]
  },
  {
   "cell_type": "markdown",
   "metadata": {},
   "source": [
    "#### Import all the libraries that are necessary"
   ]
  },
  {
   "cell_type": "code",
   "execution_count": 9,
   "metadata": {},
   "outputs": [],
   "source": [
    "import pandas as pd\n",
    "import numpy as np"
   ]
  },
  {
   "cell_type": "markdown",
   "metadata": {},
   "source": [
    "# Challenge 1"
   ]
  },
  {
   "cell_type": "markdown",
   "metadata": {},
   "source": [
    "#### In this challenge we will use the `Temp_States.csv` file. \n",
    "\n",
    "#### First import it into a data frame called `temp`."
   ]
  },
  {
   "cell_type": "code",
   "execution_count": 10,
   "metadata": {},
   "outputs": [],
   "source": [
    "temp = pd.read_csv('Temp_States.csv')"
   ]
  },
  {
   "cell_type": "markdown",
   "metadata": {},
   "source": [
    "#### Print `temp`"
   ]
  },
  {
   "cell_type": "code",
   "execution_count": 11,
   "metadata": {},
   "outputs": [
    {
     "data": {
      "text/html": [
       "<div>\n",
       "<style scoped>\n",
       "    .dataframe tbody tr th:only-of-type {\n",
       "        vertical-align: middle;\n",
       "    }\n",
       "\n",
       "    .dataframe tbody tr th {\n",
       "        vertical-align: top;\n",
       "    }\n",
       "\n",
       "    .dataframe thead th {\n",
       "        text-align: right;\n",
       "    }\n",
       "</style>\n",
       "<table border=\"1\" class=\"dataframe\">\n",
       "  <thead>\n",
       "    <tr style=\"text-align: right;\">\n",
       "      <th></th>\n",
       "      <th>City</th>\n",
       "      <th>State</th>\n",
       "      <th>Temperature</th>\n",
       "    </tr>\n",
       "  </thead>\n",
       "  <tbody>\n",
       "    <tr>\n",
       "      <th>0</th>\n",
       "      <td>NYC</td>\n",
       "      <td>New York</td>\n",
       "      <td>19.444444</td>\n",
       "    </tr>\n",
       "    <tr>\n",
       "      <th>1</th>\n",
       "      <td>Albany</td>\n",
       "      <td>New York</td>\n",
       "      <td>9.444444</td>\n",
       "    </tr>\n",
       "    <tr>\n",
       "      <th>2</th>\n",
       "      <td>Buffalo</td>\n",
       "      <td>New York</td>\n",
       "      <td>3.333333</td>\n",
       "    </tr>\n",
       "    <tr>\n",
       "      <th>3</th>\n",
       "      <td>Hartford</td>\n",
       "      <td>Connecticut</td>\n",
       "      <td>17.222222</td>\n",
       "    </tr>\n",
       "    <tr>\n",
       "      <th>4</th>\n",
       "      <td>Bridgeport</td>\n",
       "      <td>Connecticut</td>\n",
       "      <td>14.444444</td>\n",
       "    </tr>\n",
       "    <tr>\n",
       "      <th>5</th>\n",
       "      <td>Treton</td>\n",
       "      <td>New Jersey</td>\n",
       "      <td>22.222222</td>\n",
       "    </tr>\n",
       "    <tr>\n",
       "      <th>6</th>\n",
       "      <td>Newark</td>\n",
       "      <td>New Jersey</td>\n",
       "      <td>20.000000</td>\n",
       "    </tr>\n",
       "  </tbody>\n",
       "</table>\n",
       "</div>"
      ],
      "text/plain": [
       "         City        State  Temperature\n",
       "0         NYC     New York    19.444444\n",
       "1      Albany     New York     9.444444\n",
       "2     Buffalo     New York     3.333333\n",
       "3    Hartford  Connecticut    17.222222\n",
       "4  Bridgeport  Connecticut    14.444444\n",
       "5      Treton   New Jersey    22.222222\n",
       "6      Newark   New Jersey    20.000000"
      ]
     },
     "execution_count": 11,
     "metadata": {},
     "output_type": "execute_result"
    }
   ],
   "source": [
    "temp"
   ]
  },
  {
   "cell_type": "markdown",
   "metadata": {},
   "source": [
    "#### Explore the data types of the Temp dataframe. What type of data do we have? Comment your result."
   ]
  },
  {
   "cell_type": "code",
   "execution_count": 12,
   "metadata": {},
   "outputs": [
    {
     "name": "stdout",
     "output_type": "stream",
     "text": [
      "City            object\n",
      "State           object\n",
      "Temperature    float64\n",
      "dtype: object\n"
     ]
    }
   ],
   "source": [
    "print(temp.dtypes)\n"
   ]
  },
  {
   "cell_type": "markdown",
   "metadata": {},
   "source": [
    "#### Select the rows where state is New York"
   ]
  },
  {
   "cell_type": "code",
   "execution_count": 13,
   "metadata": {},
   "outputs": [
    {
     "name": "stdout",
     "output_type": "stream",
     "text": [
      "      City     State  Temperature\n",
      "0      NYC  New York    19.444444\n",
      "1   Albany  New York     9.444444\n",
      "2  Buffalo  New York     3.333333\n"
     ]
    }
   ],
   "source": [
    "new_york_data = temp[temp['State'] == 'New York']\n",
    "print(new_york_data)"
   ]
  },
  {
   "cell_type": "markdown",
   "metadata": {},
   "source": [
    "#### What is the average of the temperature of cities in New York?"
   ]
  },
  {
   "cell_type": "code",
   "execution_count": 15,
   "metadata": {},
   "outputs": [
    {
     "name": "stdout",
     "output_type": "stream",
     "text": [
      "10.74074074074074\n"
     ]
    }
   ],
   "source": [
    "avg_temp_ny = np.average(new_york_data['Temperature'].to_numpy())\n",
    "print(avg_temp_ny)"
   ]
  },
  {
   "cell_type": "markdown",
   "metadata": {},
   "source": [
    "#### We want to know cities and states with Temperature above 15 degress Celcius"
   ]
  },
  {
   "cell_type": "code",
   "execution_count": 16,
   "metadata": {},
   "outputs": [
    {
     "name": "stdout",
     "output_type": "stream",
     "text": [
      "       City        State  Temperature\n",
      "0       NYC     New York    19.444444\n",
      "3  Hartford  Connecticut    17.222222\n",
      "5    Treton   New Jersey    22.222222\n",
      "6    Newark   New Jersey    20.000000\n"
     ]
    }
   ],
   "source": [
    "cities_above_15 = temp[temp['Temperature'] > 15]\n",
    "print(cities_above_15)"
   ]
  },
  {
   "cell_type": "markdown",
   "metadata": {},
   "source": [
    "#### Now, return only the cities that have a temperature above 15 degress Celcius"
   ]
  },
  {
   "cell_type": "code",
   "execution_count": 17,
   "metadata": {},
   "outputs": [
    {
     "name": "stdout",
     "output_type": "stream",
     "text": [
      "       City\n",
      "0       NYC\n",
      "3  Hartford\n",
      "5    Treton\n",
      "6    Newark\n"
     ]
    }
   ],
   "source": [
    "cities_above_15_only = cities_above_15[['City']]\n",
    "print(cities_above_15_only)"
   ]
  },
  {
   "cell_type": "markdown",
   "metadata": {},
   "source": [
    "#### We want to know which cities have a temperature above 15 degrees Celcius and below 20 degrees Celcius\n",
    "\n",
    "*Hint: First write the condition then select the rows.*"
   ]
  },
  {
   "cell_type": "code",
   "execution_count": 18,
   "metadata": {},
   "outputs": [
    {
     "name": "stdout",
     "output_type": "stream",
     "text": [
      "       City        State  Temperature\n",
      "0       NYC     New York    19.444444\n",
      "3  Hartford  Connecticut    17.222222\n"
     ]
    }
   ],
   "source": [
    "cities_between_15_20 = temp[(temp['Temperature'] > 15) & (temp['Temperature'] < 20)]\n",
    "print(cities_between_15_20)"
   ]
  },
  {
   "cell_type": "code",
   "execution_count": 19,
   "metadata": {},
   "outputs": [
    {
     "data": {
      "text/plain": [
       "State\n",
       "New York       3\n",
       "Connecticut    2\n",
       "New Jersey     2\n",
       "Name: count, dtype: int64"
      ]
     },
     "execution_count": 19,
     "metadata": {},
     "output_type": "execute_result"
    }
   ],
   "source": [
    "temp['State'].value_counts()"
   ]
  },
  {
   "cell_type": "markdown",
   "metadata": {},
   "source": [
    "#### Find the mean and the standard deviation of the temperature of each state.\n",
    "\n",
    "*Hint: Use functions from Data Manipulation lesson*"
   ]
  },
  {
   "cell_type": "code",
   "execution_count": 20,
   "metadata": {},
   "outputs": [
    {
     "name": "stdout",
     "output_type": "stream",
     "text": [
      "Mean temperature by state:\n",
      " State\n",
      "Connecticut    15.833333\n",
      "New Jersey     21.111111\n",
      "New York       10.740741\n",
      "Name: Temperature, dtype: float64\n",
      "Standard deviation of temperature by state:\n",
      " State\n",
      "Connecticut    1.964186\n",
      "New Jersey     1.571348\n",
      "New York       8.133404\n",
      "Name: Temperature, dtype: float64\n"
     ]
    }
   ],
   "source": [
    "mean_temp_state = temp.groupby('State')['Temperature'].mean()\n",
    "std_temp_state = temp.groupby('State')['Temperature'].std()\n",
    "print(\"Mean temperature by state:\\n\", mean_temp_state)\n",
    "print(\"Standard deviation of temperature by state:\\n\", std_temp_state)"
   ]
  },
  {
   "cell_type": "markdown",
   "metadata": {
    "collapsed": true
   },
   "source": [
    "# Challenge 2"
   ]
  },
  {
   "cell_type": "markdown",
   "metadata": {},
   "source": [
    "#### Load the `employee.csv` file into a DataFrame. Call the dataframe `employee`"
   ]
  },
  {
   "cell_type": "code",
   "execution_count": 21,
   "metadata": {},
   "outputs": [
    {
     "name": "stdout",
     "output_type": "stream",
     "text": [
      "     Name Department Education Gender      Title  Years  Salary\n",
      "0    Jose         IT  Bachelor      M    analyst      1      35\n",
      "1   Maria         IT    Master      F    analyst      2      30\n",
      "2   David         HR    Master      M    analyst      2      30\n",
      "3   Sonia         HR  Bachelor      F    analyst      4      35\n",
      "4  Samuel      Sales    Master      M  associate      3      55\n",
      "5     Eva      Sales  Bachelor      F  associate      2      55\n",
      "6  Carlos         IT    Master      M         VP      8      70\n",
      "7   Pedro         IT       Phd      M  associate      7      60\n",
      "8     Ana         HR    Master      F         VP      8      70\n"
     ]
    }
   ],
   "source": [
    "employee = pd.read_csv('employee.csv')\n",
    "print(employee)"
   ]
  },
  {
   "cell_type": "markdown",
   "metadata": {},
   "source": [
    "#### Explore the data types of the Temp dataframe. Comment your results"
   ]
  },
  {
   "cell_type": "code",
   "execution_count": 22,
   "metadata": {},
   "outputs": [
    {
     "name": "stdout",
     "output_type": "stream",
     "text": [
      "Name          object\n",
      "Department    object\n",
      "Education     object\n",
      "Gender        object\n",
      "Title         object\n",
      "Years          int64\n",
      "Salary         int64\n",
      "dtype: object\n"
     ]
    }
   ],
   "source": [
    "print(employee.dtypes)\n"
   ]
  },
  {
   "cell_type": "markdown",
   "metadata": {},
   "source": [
    "#### Show visually the frequency distribution (histogram) of the employee dataset. In few words describe these histograms?"
   ]
  },
  {
   "cell_type": "code",
   "execution_count": 25,
   "metadata": {},
   "outputs": [
    {
     "data": {
      "image/png": "[encoded data removed]",
      "text/plain": [
       "<Figure size 1500x1000 with 2 Axes>"
      ]
     },
     "metadata": {},
     "output_type": "display_data"
    }
   ],
   "source": [
    "import matplotlib.pyplot as plt\n",
    "\n",
    "employee.hist(bins=10, figsize=(15, 10))\n",
    "plt.show()\n"
   ]
  },
  {
   "cell_type": "code",
   "execution_count": null,
   "metadata": {},
   "outputs": [],
   "source": [
    "# YOUR CODE HERE"
   ]
  },
  {
   "cell_type": "code",
   "execution_count": null,
   "metadata": {},
   "outputs": [],
   "source": [
    "# YOUR CODE HERE"
   ]
  },
  {
   "cell_type": "markdown",
   "metadata": {},
   "source": [
    "#### What's the average salary in this company?"
   ]
  },
  {
   "cell_type": "code",
   "execution_count": 26,
   "metadata": {},
   "outputs": [
    {
     "name": "stdout",
     "output_type": "stream",
     "text": [
      "48.888888888888886\n"
     ]
    }
   ],
   "source": [
    "avg_salary = employee['Salary'].mean()\n",
    "print(avg_salary)"
   ]
  },
  {
   "cell_type": "markdown",
   "metadata": {},
   "source": [
    "#### What's the highest salary?"
   ]
  },
  {
   "cell_type": "code",
   "execution_count": 27,
   "metadata": {},
   "outputs": [
    {
     "name": "stdout",
     "output_type": "stream",
     "text": [
      "70\n"
     ]
    }
   ],
   "source": [
    "highest_salary = employee['Salary'].max()\n",
    "print(highest_salary)"
   ]
  },
  {
   "cell_type": "markdown",
   "metadata": {},
   "source": [
    "#### What's the lowest salary?"
   ]
  },
  {
   "cell_type": "code",
   "execution_count": 28,
   "metadata": {},
   "outputs": [
    {
     "name": "stdout",
     "output_type": "stream",
     "text": [
      "30\n"
     ]
    }
   ],
   "source": [
    "lowest_salary = employee['Salary'].min()\n",
    "print(lowest_salary)"
   ]
  },
  {
   "cell_type": "markdown",
   "metadata": {},
   "source": [
    "#### Who are the employees with the lowest salary?"
   ]
  },
  {
   "cell_type": "code",
   "execution_count": 29,
   "metadata": {},
   "outputs": [
    {
     "name": "stdout",
     "output_type": "stream",
     "text": [
      "    Name Department Education Gender    Title  Years  Salary\n",
      "1  Maria         IT    Master      F  analyst      2      30\n",
      "2  David         HR    Master      M  analyst      2      30\n"
     ]
    }
   ],
   "source": [
    "lowest_salary_employees = employee[employee['Salary'] == lowest_salary]\n",
    "print(lowest_salary_employees)"
   ]
  },
  {
   "cell_type": "markdown",
   "metadata": {},
   "source": [
    "#### Could you give all the information about an employee called David?"
   ]
  },
  {
   "cell_type": "code",
   "execution_count": 32,
   "metadata": {},
   "outputs": [
    {
     "name": "stdout",
     "output_type": "stream",
     "text": [
      "    Name Department Education Gender    Title  Years  Salary\n",
      "2  David         HR    Master      M  analyst      2      30\n"
     ]
    }
   ],
   "source": [
    "david_info = employee[employee['Name'] == 'David']\n",
    "print(david_info)"
   ]
  },
  {
   "cell_type": "markdown",
   "metadata": {},
   "source": [
    "#### Could you give only David's salary?"
   ]
  },
  {
   "cell_type": "code",
   "execution_count": 35,
   "metadata": {},
   "outputs": [
    {
     "name": "stdout",
     "output_type": "stream",
     "text": [
      "2    30\n",
      "Name: Salary, dtype: int64\n"
     ]
    }
   ],
   "source": [
    "david_salary = employee[employee['Name'] == 'David']['Salary']\n",
    "print(david_salary)"
   ]
  },
  {
   "cell_type": "markdown",
   "metadata": {},
   "source": [
    "#### Print all the rows where job title is associate"
   ]
  },
  {
   "cell_type": "code",
   "execution_count": 38,
   "metadata": {},
   "outputs": [
    {
     "name": "stdout",
     "output_type": "stream",
     "text": [
      "     Name Department Education Gender      Title  Years  Salary\n",
      "4  Samuel      Sales    Master      M  associate      3      55\n",
      "5     Eva      Sales  Bachelor      F  associate      2      55\n",
      "7   Pedro         IT       Phd      M  associate      7      60\n"
     ]
    }
   ],
   "source": [
    "associates = employee[employee['Title'] == 'associate']\n",
    "print(associates)"
   ]
  },
  {
   "cell_type": "markdown",
   "metadata": {},
   "source": [
    "#### Print the first 3 rows of your dataframe\n",
    "\n",
    "##### Tip : There are 2 ways to do it. Do it both ways"
   ]
  },
  {
   "cell_type": "code",
   "execution_count": 39,
   "metadata": {},
   "outputs": [
    {
     "name": "stdout",
     "output_type": "stream",
     "text": [
      "    Name Department Education Gender    Title  Years  Salary\n",
      "0   Jose         IT  Bachelor      M  analyst      1      35\n",
      "1  Maria         IT    Master      F  analyst      2      30\n",
      "2  David         HR    Master      M  analyst      2      30\n"
     ]
    }
   ],
   "source": [
    "print(employee.head(3))\n"
   ]
  },
  {
   "cell_type": "code",
   "execution_count": 40,
   "metadata": {},
   "outputs": [
    {
     "name": "stdout",
     "output_type": "stream",
     "text": [
      "    Name Department Education Gender    Title  Years  Salary\n",
      "0   Jose         IT  Bachelor      M  analyst      1      35\n",
      "1  Maria         IT    Master      F  analyst      2      30\n",
      "2  David         HR    Master      M  analyst      2      30\n"
     ]
    }
   ],
   "source": [
    "print(employee.iloc[:3])"
   ]
  },
  {
   "cell_type": "markdown",
   "metadata": {},
   "source": [
    "#### Find the employees who's title is associate and the salary above 55?"
   ]
  },
  {
   "cell_type": "code",
   "execution_count": 42,
   "metadata": {},
   "outputs": [
    {
     "name": "stdout",
     "output_type": "stream",
     "text": [
      "    Name Department Education Gender      Title  Years  Salary\n",
      "7  Pedro         IT       Phd      M  associate      7      60\n"
     ]
    }
   ],
   "source": [
    "associates_above_55 = employee[(employee['Title'] == 'associate') & (employee['Salary'] > 55)]\n",
    "print(associates_above_55)"
   ]
  },
  {
   "cell_type": "markdown",
   "metadata": {},
   "source": [
    "#### Group the employees based on their number of years of employment. What are the average salaries in each group?"
   ]
  },
  {
   "cell_type": "code",
   "execution_count": 44,
   "metadata": {},
   "outputs": [
    {
     "name": "stdout",
     "output_type": "stream",
     "text": [
      "Years\n",
      "1    35.000000\n",
      "2    38.333333\n",
      "3    55.000000\n",
      "4    35.000000\n",
      "7    60.000000\n",
      "8    70.000000\n",
      "Name: Salary, dtype: float64\n"
     ]
    }
   ],
   "source": [
    "avg_salary_by_years = employee.groupby('Years')['Salary'].mean()\n",
    "print(avg_salary_by_years)"
   ]
  },
  {
   "cell_type": "markdown",
   "metadata": {},
   "source": [
    "####  What is the average Salary per title?"
   ]
  },
  {
   "cell_type": "code",
   "execution_count": 45,
   "metadata": {},
   "outputs": [
    {
     "name": "stdout",
     "output_type": "stream",
     "text": [
      "Title\n",
      "VP           70.000000\n",
      "analyst      32.500000\n",
      "associate    56.666667\n",
      "Name: Salary, dtype: float64\n"
     ]
    }
   ],
   "source": [
    "avg_salary_by_title = employee.groupby('Title')['Salary'].mean()\n",
    "print(avg_salary_by_title)"
   ]
  },
  {
   "cell_type": "markdown",
   "metadata": {},
   "source": [
    "#### Show a visual summary of the data using boxplot. What Are the First and Third Quartiles? Comment your results.\n",
    "\n",
    "* Hint : Quantiles vs Quartiles*\n",
    "In Probability and Statistics, quantiles are cut points dividing the range of a probability distribution into continuous intervals with equal probabilities. When division is into four parts the values of the variate corresponding to 25%, 50% and 75% of the total distribution are called quartiles."
   ]
  },
  {
   "cell_type": "code",
   "execution_count": 46,
   "metadata": {},
   "outputs": [
    {
     "data": {
      "image/png": "[encoded data removed]",
      "text/plain": [
       "<Figure size 1000x500 with 1 Axes>"
      ]
     },
     "metadata": {},
     "output_type": "display_data"
    },
    {
     "name": "stdout",
     "output_type": "stream",
     "text": [
      "First quartile: 35.0\n",
      "Third quartile: 60.0\n"
     ]
    }
   ],
   "source": [
    "plt.figure(figsize=(10, 5))\n",
    "employee.boxplot(column=['Salary'])\n",
    "plt.show()\n"
   ]
  },
  {
   "cell_type": "code",
   "execution_count": 56,
   "metadata": {},
   "outputs": [
    {
     "name": "stdout",
     "output_type": "stream",
     "text": [
      "First quartile: 35.0\n"
     ]
    }
   ],
   "source": [
    "first_quartile = employee['Salary'].quantile(0.25)\n",
    "print(f\"First quartile: {first_quartile}\")\n"
   ]
  },
  {
   "cell_type": "code",
   "execution_count": 55,
   "metadata": {},
   "outputs": [
    {
     "name": "stdout",
     "output_type": "stream",
     "text": [
      "Third quartile: 60.0\n"
     ]
    }
   ],
   "source": [
    "\n",
    "third_quartile = employee['Salary'].quantile(0.75)\n",
    "print(f\"Third quartile: {third_quartile}\")"
   ]
  },
  {
   "cell_type": "markdown",
   "metadata": {},
   "source": [
    "#### Is the mean salary per gender different?"
   ]
  },
  {
   "cell_type": "code",
   "execution_count": 57,
   "metadata": {},
   "outputs": [
    {
     "name": "stdout",
     "output_type": "stream",
     "text": [
      "Gender\n",
      "F    47.5\n",
      "M    50.0\n",
      "Name: Salary, dtype: float64\n"
     ]
    }
   ],
   "source": [
    "mean_salary_by_gender = employee.groupby('Gender')['Salary'].mean()\n",
    "print(mean_salary_by_gender)\n",
    "# Comment: Compare the mean salaries between genders."
   ]
  },
  {
   "cell_type": "markdown",
   "metadata": {},
   "source": [
    "#### Find the minimum, mean and the maximum of all numeric columns for each Department.\n",
    "\n",
    "##### Hint: Use functions from Data Manipulation lesson"
   ]
  },
  {
   "cell_type": "code",
   "execution_count": 58,
   "metadata": {},
   "outputs": [
    {
     "ename": "TypeError",
     "evalue": "agg function failed [how->mean,dtype->object]",
     "output_type": "error",
     "traceback": [
      "\u001b[0;31m---------------------------------------------------------------------------\u001b[0m",
      "\u001b[0;31mTypeError\u001b[0m                                 Traceback (most recent call last)",
      "File \u001b[0;32m~/Library/Python/3.9/lib/python/site-packages/pandas/core/groupby/groupby.py:1942\u001b[0m, in \u001b[0;36mGroupBy._agg_py_fallback\u001b[0;34m(self, how, values, ndim, alt)\u001b[0m\n\u001b[1;32m   1941\u001b[0m \u001b[38;5;28;01mtry\u001b[39;00m:\n\u001b[0;32m-> 1942\u001b[0m     res_values \u001b[38;5;241m=\u001b[39m \u001b[38;5;28;43mself\u001b[39;49m\u001b[38;5;241;43m.\u001b[39;49m\u001b[43m_grouper\u001b[49m\u001b[38;5;241;43m.\u001b[39;49m\u001b[43magg_series\u001b[49m\u001b[43m(\u001b[49m\u001b[43mser\u001b[49m\u001b[43m,\u001b[49m\u001b[43m \u001b[49m\u001b[43malt\u001b[49m\u001b[43m,\u001b[49m\u001b[43m \u001b[49m\u001b[43mpreserve_dtype\u001b[49m\u001b[38;5;241;43m=\u001b[39;49m\u001b[38;5;28;43;01mTrue\u001b[39;49;00m\u001b[43m)\u001b[49m\n\u001b[1;32m   1943\u001b[0m \u001b[38;5;28;01mexcept\u001b[39;00m \u001b[38;5;167;01mException\u001b[39;00m \u001b[38;5;28;01mas\u001b[39;00m err:\n",
      "File \u001b[0;32m~/Library/Python/3.9/lib/python/site-packages/pandas/core/groupby/ops.py:864\u001b[0m, in \u001b[0;36mBaseGrouper.agg_series\u001b[0;34m(self, obj, func, preserve_dtype)\u001b[0m\n\u001b[1;32m    862\u001b[0m     preserve_dtype \u001b[38;5;241m=\u001b[39m \u001b[38;5;28;01mTrue\u001b[39;00m\n\u001b[0;32m--> 864\u001b[0m result \u001b[38;5;241m=\u001b[39m \u001b[38;5;28;43mself\u001b[39;49m\u001b[38;5;241;43m.\u001b[39;49m\u001b[43m_aggregate_series_pure_python\u001b[49m\u001b[43m(\u001b[49m\u001b[43mobj\u001b[49m\u001b[43m,\u001b[49m\u001b[43m \u001b[49m\u001b[43mfunc\u001b[49m\u001b[43m)\u001b[49m\n\u001b[1;32m    866\u001b[0m npvalues \u001b[38;5;241m=\u001b[39m lib\u001b[38;5;241m.\u001b[39mmaybe_convert_objects(result, try_float\u001b[38;5;241m=\u001b[39m\u001b[38;5;28;01mFalse\u001b[39;00m)\n",
      "File \u001b[0;32m~/Library/Python/3.9/lib/python/site-packages/pandas/core/groupby/ops.py:885\u001b[0m, in \u001b[0;36mBaseGrouper._aggregate_series_pure_python\u001b[0;34m(self, obj, func)\u001b[0m\n\u001b[1;32m    884\u001b[0m \u001b[38;5;28;01mfor\u001b[39;00m i, group \u001b[38;5;129;01min\u001b[39;00m \u001b[38;5;28menumerate\u001b[39m(splitter):\n\u001b[0;32m--> 885\u001b[0m     res \u001b[38;5;241m=\u001b[39m \u001b[43mfunc\u001b[49m\u001b[43m(\u001b[49m\u001b[43mgroup\u001b[49m\u001b[43m)\u001b[49m\n\u001b[1;32m    886\u001b[0m     res \u001b[38;5;241m=\u001b[39m extract_result(res)\n",
      "File \u001b[0;32m~/Library/Python/3.9/lib/python/site-packages/pandas/core/groupby/groupby.py:2454\u001b[0m, in \u001b[0;36mGroupBy.mean.<locals>.<lambda>\u001b[0;34m(x)\u001b[0m\n\u001b[1;32m   2451\u001b[0m \u001b[38;5;28;01melse\u001b[39;00m:\n\u001b[1;32m   2452\u001b[0m     result \u001b[38;5;241m=\u001b[39m \u001b[38;5;28mself\u001b[39m\u001b[38;5;241m.\u001b[39m_cython_agg_general(\n\u001b[1;32m   2453\u001b[0m         \u001b[38;5;124m\"\u001b[39m\u001b[38;5;124mmean\u001b[39m\u001b[38;5;124m\"\u001b[39m,\n\u001b[0;32m-> 2454\u001b[0m         alt\u001b[38;5;241m=\u001b[39m\u001b[38;5;28;01mlambda\u001b[39;00m x: \u001b[43mSeries\u001b[49m\u001b[43m(\u001b[49m\u001b[43mx\u001b[49m\u001b[43m,\u001b[49m\u001b[43m \u001b[49m\u001b[43mcopy\u001b[49m\u001b[38;5;241;43m=\u001b[39;49m\u001b[38;5;28;43;01mFalse\u001b[39;49;00m\u001b[43m)\u001b[49m\u001b[38;5;241;43m.\u001b[39;49m\u001b[43mmean\u001b[49m\u001b[43m(\u001b[49m\u001b[43mnumeric_only\u001b[49m\u001b[38;5;241;43m=\u001b[39;49m\u001b[43mnumeric_only\u001b[49m\u001b[43m)\u001b[49m,\n\u001b[1;32m   2455\u001b[0m         numeric_only\u001b[38;5;241m=\u001b[39mnumeric_only,\n\u001b[1;32m   2456\u001b[0m     )\n\u001b[1;32m   2457\u001b[0m     \u001b[38;5;28;01mreturn\u001b[39;00m result\u001b[38;5;241m.\u001b[39m__finalize__(\u001b[38;5;28mself\u001b[39m\u001b[38;5;241m.\u001b[39mobj, method\u001b[38;5;241m=\u001b[39m\u001b[38;5;124m\"\u001b[39m\u001b[38;5;124mgroupby\u001b[39m\u001b[38;5;124m\"\u001b[39m)\n",
      "File \u001b[0;32m~/Library/Python/3.9/lib/python/site-packages/pandas/core/series.py:6549\u001b[0m, in \u001b[0;36mSeries.mean\u001b[0;34m(self, axis, skipna, numeric_only, **kwargs)\u001b[0m\n\u001b[1;32m   6541\u001b[0m \u001b[38;5;129m@doc\u001b[39m(make_doc(\u001b[38;5;124m\"\u001b[39m\u001b[38;5;124mmean\u001b[39m\u001b[38;5;124m\"\u001b[39m, ndim\u001b[38;5;241m=\u001b[39m\u001b[38;5;241m1\u001b[39m))\n\u001b[1;32m   6542\u001b[0m \u001b[38;5;28;01mdef\u001b[39;00m \u001b[38;5;21mmean\u001b[39m(\n\u001b[1;32m   6543\u001b[0m     \u001b[38;5;28mself\u001b[39m,\n\u001b[0;32m   (...)\u001b[0m\n\u001b[1;32m   6547\u001b[0m     \u001b[38;5;241m*\u001b[39m\u001b[38;5;241m*\u001b[39mkwargs,\n\u001b[1;32m   6548\u001b[0m ):\n\u001b[0;32m-> 6549\u001b[0m     \u001b[38;5;28;01mreturn\u001b[39;00m \u001b[43mNDFrame\u001b[49m\u001b[38;5;241;43m.\u001b[39;49m\u001b[43mmean\u001b[49m\u001b[43m(\u001b[49m\u001b[38;5;28;43mself\u001b[39;49m\u001b[43m,\u001b[49m\u001b[43m \u001b[49m\u001b[43maxis\u001b[49m\u001b[43m,\u001b[49m\u001b[43m \u001b[49m\u001b[43mskipna\u001b[49m\u001b[43m,\u001b[49m\u001b[43m \u001b[49m\u001b[43mnumeric_only\u001b[49m\u001b[43m,\u001b[49m\u001b[43m \u001b[49m\u001b[38;5;241;43m*\u001b[39;49m\u001b[38;5;241;43m*\u001b[39;49m\u001b[43mkwargs\u001b[49m\u001b[43m)\u001b[49m\n",
      "File \u001b[0;32m~/Library/Python/3.9/lib/python/site-packages/pandas/core/generic.py:12420\u001b[0m, in \u001b[0;36mNDFrame.mean\u001b[0;34m(self, axis, skipna, numeric_only, **kwargs)\u001b[0m\n\u001b[1;32m  12413\u001b[0m \u001b[38;5;28;01mdef\u001b[39;00m \u001b[38;5;21mmean\u001b[39m(\n\u001b[1;32m  12414\u001b[0m     \u001b[38;5;28mself\u001b[39m,\n\u001b[1;32m  12415\u001b[0m     axis: Axis \u001b[38;5;241m|\u001b[39m \u001b[38;5;28;01mNone\u001b[39;00m \u001b[38;5;241m=\u001b[39m \u001b[38;5;241m0\u001b[39m,\n\u001b[0;32m   (...)\u001b[0m\n\u001b[1;32m  12418\u001b[0m     \u001b[38;5;241m*\u001b[39m\u001b[38;5;241m*\u001b[39mkwargs,\n\u001b[1;32m  12419\u001b[0m ) \u001b[38;5;241m-\u001b[39m\u001b[38;5;241m>\u001b[39m Series \u001b[38;5;241m|\u001b[39m \u001b[38;5;28mfloat\u001b[39m:\n\u001b[0;32m> 12420\u001b[0m     \u001b[38;5;28;01mreturn\u001b[39;00m \u001b[38;5;28;43mself\u001b[39;49m\u001b[38;5;241;43m.\u001b[39;49m\u001b[43m_stat_function\u001b[49m\u001b[43m(\u001b[49m\n\u001b[1;32m  12421\u001b[0m \u001b[43m        \u001b[49m\u001b[38;5;124;43m\"\u001b[39;49m\u001b[38;5;124;43mmean\u001b[39;49m\u001b[38;5;124;43m\"\u001b[39;49m\u001b[43m,\u001b[49m\u001b[43m \u001b[49m\u001b[43mnanops\u001b[49m\u001b[38;5;241;43m.\u001b[39;49m\u001b[43mnanmean\u001b[49m\u001b[43m,\u001b[49m\u001b[43m \u001b[49m\u001b[43maxis\u001b[49m\u001b[43m,\u001b[49m\u001b[43m \u001b[49m\u001b[43mskipna\u001b[49m\u001b[43m,\u001b[49m\u001b[43m \u001b[49m\u001b[43mnumeric_only\u001b[49m\u001b[43m,\u001b[49m\u001b[43m \u001b[49m\u001b[38;5;241;43m*\u001b[39;49m\u001b[38;5;241;43m*\u001b[39;49m\u001b[43mkwargs\u001b[49m\n\u001b[1;32m  12422\u001b[0m \u001b[43m    \u001b[49m\u001b[43m)\u001b[49m\n",
      "File \u001b[0;32m~/Library/Python/3.9/lib/python/site-packages/pandas/core/generic.py:12377\u001b[0m, in \u001b[0;36mNDFrame._stat_function\u001b[0;34m(self, name, func, axis, skipna, numeric_only, **kwargs)\u001b[0m\n\u001b[1;32m  12375\u001b[0m validate_bool_kwarg(skipna, \u001b[38;5;124m\"\u001b[39m\u001b[38;5;124mskipna\u001b[39m\u001b[38;5;124m\"\u001b[39m, none_allowed\u001b[38;5;241m=\u001b[39m\u001b[38;5;28;01mFalse\u001b[39;00m)\n\u001b[0;32m> 12377\u001b[0m \u001b[38;5;28;01mreturn\u001b[39;00m \u001b[38;5;28;43mself\u001b[39;49m\u001b[38;5;241;43m.\u001b[39;49m\u001b[43m_reduce\u001b[49m\u001b[43m(\u001b[49m\n\u001b[1;32m  12378\u001b[0m \u001b[43m    \u001b[49m\u001b[43mfunc\u001b[49m\u001b[43m,\u001b[49m\u001b[43m \u001b[49m\u001b[43mname\u001b[49m\u001b[38;5;241;43m=\u001b[39;49m\u001b[43mname\u001b[49m\u001b[43m,\u001b[49m\u001b[43m \u001b[49m\u001b[43maxis\u001b[49m\u001b[38;5;241;43m=\u001b[39;49m\u001b[43maxis\u001b[49m\u001b[43m,\u001b[49m\u001b[43m \u001b[49m\u001b[43mskipna\u001b[49m\u001b[38;5;241;43m=\u001b[39;49m\u001b[43mskipna\u001b[49m\u001b[43m,\u001b[49m\u001b[43m \u001b[49m\u001b[43mnumeric_only\u001b[49m\u001b[38;5;241;43m=\u001b[39;49m\u001b[43mnumeric_only\u001b[49m\n\u001b[1;32m  12379\u001b[0m \u001b[43m\u001b[49m\u001b[43m)\u001b[49m\n",
      "File \u001b[0;32m~/Library/Python/3.9/lib/python/site-packages/pandas/core/series.py:6457\u001b[0m, in \u001b[0;36mSeries._reduce\u001b[0;34m(self, op, name, axis, skipna, numeric_only, filter_type, **kwds)\u001b[0m\n\u001b[1;32m   6453\u001b[0m     \u001b[38;5;28;01mraise\u001b[39;00m \u001b[38;5;167;01mTypeError\u001b[39;00m(\n\u001b[1;32m   6454\u001b[0m         \u001b[38;5;124mf\u001b[39m\u001b[38;5;124m\"\u001b[39m\u001b[38;5;124mSeries.\u001b[39m\u001b[38;5;132;01m{\u001b[39;00mname\u001b[38;5;132;01m}\u001b[39;00m\u001b[38;5;124m does not allow \u001b[39m\u001b[38;5;132;01m{\u001b[39;00mkwd_name\u001b[38;5;132;01m}\u001b[39;00m\u001b[38;5;124m=\u001b[39m\u001b[38;5;132;01m{\u001b[39;00mnumeric_only\u001b[38;5;132;01m}\u001b[39;00m\u001b[38;5;124m \u001b[39m\u001b[38;5;124m\"\u001b[39m\n\u001b[1;32m   6455\u001b[0m         \u001b[38;5;124m\"\u001b[39m\u001b[38;5;124mwith non-numeric dtypes.\u001b[39m\u001b[38;5;124m\"\u001b[39m\n\u001b[1;32m   6456\u001b[0m     )\n\u001b[0;32m-> 6457\u001b[0m \u001b[38;5;28;01mreturn\u001b[39;00m \u001b[43mop\u001b[49m\u001b[43m(\u001b[49m\u001b[43mdelegate\u001b[49m\u001b[43m,\u001b[49m\u001b[43m \u001b[49m\u001b[43mskipna\u001b[49m\u001b[38;5;241;43m=\u001b[39;49m\u001b[43mskipna\u001b[49m\u001b[43m,\u001b[49m\u001b[43m \u001b[49m\u001b[38;5;241;43m*\u001b[39;49m\u001b[38;5;241;43m*\u001b[39;49m\u001b[43mkwds\u001b[49m\u001b[43m)\u001b[49m\n",
      "File \u001b[0;32m~/Library/Python/3.9/lib/python/site-packages/pandas/core/nanops.py:147\u001b[0m, in \u001b[0;36mbottleneck_switch.__call__.<locals>.f\u001b[0;34m(values, axis, skipna, **kwds)\u001b[0m\n\u001b[1;32m    146\u001b[0m \u001b[38;5;28;01melse\u001b[39;00m:\n\u001b[0;32m--> 147\u001b[0m     result \u001b[38;5;241m=\u001b[39m \u001b[43malt\u001b[49m\u001b[43m(\u001b[49m\u001b[43mvalues\u001b[49m\u001b[43m,\u001b[49m\u001b[43m \u001b[49m\u001b[43maxis\u001b[49m\u001b[38;5;241;43m=\u001b[39;49m\u001b[43maxis\u001b[49m\u001b[43m,\u001b[49m\u001b[43m \u001b[49m\u001b[43mskipna\u001b[49m\u001b[38;5;241;43m=\u001b[39;49m\u001b[43mskipna\u001b[49m\u001b[43m,\u001b[49m\u001b[43m \u001b[49m\u001b[38;5;241;43m*\u001b[39;49m\u001b[38;5;241;43m*\u001b[39;49m\u001b[43mkwds\u001b[49m\u001b[43m)\u001b[49m\n\u001b[1;32m    149\u001b[0m \u001b[38;5;28;01mreturn\u001b[39;00m result\n",
      "File \u001b[0;32m~/Library/Python/3.9/lib/python/site-packages/pandas/core/nanops.py:404\u001b[0m, in \u001b[0;36m_datetimelike_compat.<locals>.new_func\u001b[0;34m(values, axis, skipna, mask, **kwargs)\u001b[0m\n\u001b[1;32m    402\u001b[0m     mask \u001b[38;5;241m=\u001b[39m isna(values)\n\u001b[0;32m--> 404\u001b[0m result \u001b[38;5;241m=\u001b[39m \u001b[43mfunc\u001b[49m\u001b[43m(\u001b[49m\u001b[43mvalues\u001b[49m\u001b[43m,\u001b[49m\u001b[43m \u001b[49m\u001b[43maxis\u001b[49m\u001b[38;5;241;43m=\u001b[39;49m\u001b[43maxis\u001b[49m\u001b[43m,\u001b[49m\u001b[43m \u001b[49m\u001b[43mskipna\u001b[49m\u001b[38;5;241;43m=\u001b[39;49m\u001b[43mskipna\u001b[49m\u001b[43m,\u001b[49m\u001b[43m \u001b[49m\u001b[43mmask\u001b[49m\u001b[38;5;241;43m=\u001b[39;49m\u001b[43mmask\u001b[49m\u001b[43m,\u001b[49m\u001b[43m \u001b[49m\u001b[38;5;241;43m*\u001b[39;49m\u001b[38;5;241;43m*\u001b[39;49m\u001b[43mkwargs\u001b[49m\u001b[43m)\u001b[49m\n\u001b[1;32m    406\u001b[0m \u001b[38;5;28;01mif\u001b[39;00m datetimelike:\n",
      "File \u001b[0;32m~/Library/Python/3.9/lib/python/site-packages/pandas/core/nanops.py:720\u001b[0m, in \u001b[0;36mnanmean\u001b[0;34m(values, axis, skipna, mask)\u001b[0m\n\u001b[1;32m    719\u001b[0m the_sum \u001b[38;5;241m=\u001b[39m values\u001b[38;5;241m.\u001b[39msum(axis, dtype\u001b[38;5;241m=\u001b[39mdtype_sum)\n\u001b[0;32m--> 720\u001b[0m the_sum \u001b[38;5;241m=\u001b[39m \u001b[43m_ensure_numeric\u001b[49m\u001b[43m(\u001b[49m\u001b[43mthe_sum\u001b[49m\u001b[43m)\u001b[49m\n\u001b[1;32m    722\u001b[0m \u001b[38;5;28;01mif\u001b[39;00m axis \u001b[38;5;129;01mis\u001b[39;00m \u001b[38;5;129;01mnot\u001b[39;00m \u001b[38;5;28;01mNone\u001b[39;00m \u001b[38;5;129;01mand\u001b[39;00m \u001b[38;5;28mgetattr\u001b[39m(the_sum, \u001b[38;5;124m\"\u001b[39m\u001b[38;5;124mndim\u001b[39m\u001b[38;5;124m\"\u001b[39m, \u001b[38;5;28;01mFalse\u001b[39;00m):\n",
      "File \u001b[0;32m~/Library/Python/3.9/lib/python/site-packages/pandas/core/nanops.py:1701\u001b[0m, in \u001b[0;36m_ensure_numeric\u001b[0;34m(x)\u001b[0m\n\u001b[1;32m   1699\u001b[0m \u001b[38;5;28;01mif\u001b[39;00m \u001b[38;5;28misinstance\u001b[39m(x, \u001b[38;5;28mstr\u001b[39m):\n\u001b[1;32m   1700\u001b[0m     \u001b[38;5;66;03m# GH#44008, GH#36703 avoid casting e.g. strings to numeric\u001b[39;00m\n\u001b[0;32m-> 1701\u001b[0m     \u001b[38;5;28;01mraise\u001b[39;00m \u001b[38;5;167;01mTypeError\u001b[39;00m(\u001b[38;5;124mf\u001b[39m\u001b[38;5;124m\"\u001b[39m\u001b[38;5;124mCould not convert string \u001b[39m\u001b[38;5;124m'\u001b[39m\u001b[38;5;132;01m{\u001b[39;00mx\u001b[38;5;132;01m}\u001b[39;00m\u001b[38;5;124m'\u001b[39m\u001b[38;5;124m to numeric\u001b[39m\u001b[38;5;124m\"\u001b[39m)\n\u001b[1;32m   1702\u001b[0m \u001b[38;5;28;01mtry\u001b[39;00m:\n",
      "\u001b[0;31mTypeError\u001b[0m: Could not convert string 'DavidSoniaAna' to numeric",
      "\nThe above exception was the direct cause of the following exception:\n",
      "\u001b[0;31mTypeError\u001b[0m                                 Traceback (most recent call last)",
      "Cell \u001b[0;32mIn[58], line 1\u001b[0m\n\u001b[0;32m----> 1\u001b[0m dept_stats \u001b[38;5;241m=\u001b[39m \u001b[43memployee\u001b[49m\u001b[38;5;241;43m.\u001b[39;49m\u001b[43mgroupby\u001b[49m\u001b[43m(\u001b[49m\u001b[38;5;124;43m'\u001b[39;49m\u001b[38;5;124;43mDepartment\u001b[39;49m\u001b[38;5;124;43m'\u001b[39;49m\u001b[43m)\u001b[49m\u001b[38;5;241;43m.\u001b[39;49m\u001b[43magg\u001b[49m\u001b[43m(\u001b[49m\u001b[43m[\u001b[49m\u001b[38;5;124;43m'\u001b[39;49m\u001b[38;5;124;43mmin\u001b[39;49m\u001b[38;5;124;43m'\u001b[39;49m\u001b[43m,\u001b[49m\u001b[43m \u001b[49m\u001b[38;5;124;43m'\u001b[39;49m\u001b[38;5;124;43mmean\u001b[39;49m\u001b[38;5;124;43m'\u001b[39;49m\u001b[43m,\u001b[49m\u001b[43m \u001b[49m\u001b[38;5;124;43m'\u001b[39;49m\u001b[38;5;124;43mmax\u001b[39;49m\u001b[38;5;124;43m'\u001b[39;49m\u001b[43m]\u001b[49m\u001b[43m)\u001b[49m\n\u001b[1;32m      2\u001b[0m \u001b[38;5;28mprint\u001b[39m(dept_stats)\n",
      "File \u001b[0;32m~/Library/Python/3.9/lib/python/site-packages/pandas/core/groupby/generic.py:1432\u001b[0m, in \u001b[0;36mDataFrameGroupBy.aggregate\u001b[0;34m(self, func, engine, engine_kwargs, *args, **kwargs)\u001b[0m\n\u001b[1;32m   1429\u001b[0m     kwargs[\u001b[38;5;124m\"\u001b[39m\u001b[38;5;124mengine_kwargs\u001b[39m\u001b[38;5;124m\"\u001b[39m] \u001b[38;5;241m=\u001b[39m engine_kwargs\n\u001b[1;32m   1431\u001b[0m op \u001b[38;5;241m=\u001b[39m GroupByApply(\u001b[38;5;28mself\u001b[39m, func, args\u001b[38;5;241m=\u001b[39margs, kwargs\u001b[38;5;241m=\u001b[39mkwargs)\n\u001b[0;32m-> 1432\u001b[0m result \u001b[38;5;241m=\u001b[39m \u001b[43mop\u001b[49m\u001b[38;5;241;43m.\u001b[39;49m\u001b[43magg\u001b[49m\u001b[43m(\u001b[49m\u001b[43m)\u001b[49m\n\u001b[1;32m   1433\u001b[0m \u001b[38;5;28;01mif\u001b[39;00m \u001b[38;5;129;01mnot\u001b[39;00m is_dict_like(func) \u001b[38;5;129;01mand\u001b[39;00m result \u001b[38;5;129;01mis\u001b[39;00m \u001b[38;5;129;01mnot\u001b[39;00m \u001b[38;5;28;01mNone\u001b[39;00m:\n\u001b[1;32m   1434\u001b[0m     \u001b[38;5;66;03m# GH #52849\u001b[39;00m\n\u001b[1;32m   1435\u001b[0m     \u001b[38;5;28;01mif\u001b[39;00m \u001b[38;5;129;01mnot\u001b[39;00m \u001b[38;5;28mself\u001b[39m\u001b[38;5;241m.\u001b[39mas_index \u001b[38;5;129;01mand\u001b[39;00m is_list_like(func):\n",
      "File \u001b[0;32m~/Library/Python/3.9/lib/python/site-packages/pandas/core/apply.py:193\u001b[0m, in \u001b[0;36mApply.agg\u001b[0;34m(self)\u001b[0m\n\u001b[1;32m    190\u001b[0m     \u001b[38;5;28;01mreturn\u001b[39;00m \u001b[38;5;28mself\u001b[39m\u001b[38;5;241m.\u001b[39magg_dict_like()\n\u001b[1;32m    191\u001b[0m \u001b[38;5;28;01melif\u001b[39;00m is_list_like(func):\n\u001b[1;32m    192\u001b[0m     \u001b[38;5;66;03m# we require a list, but not a 'str'\u001b[39;00m\n\u001b[0;32m--> 193\u001b[0m     \u001b[38;5;28;01mreturn\u001b[39;00m \u001b[38;5;28;43mself\u001b[39;49m\u001b[38;5;241;43m.\u001b[39;49m\u001b[43magg_list_like\u001b[49m\u001b[43m(\u001b[49m\u001b[43m)\u001b[49m\n\u001b[1;32m    195\u001b[0m \u001b[38;5;28;01mif\u001b[39;00m \u001b[38;5;28mcallable\u001b[39m(func):\n\u001b[1;32m    196\u001b[0m     f \u001b[38;5;241m=\u001b[39m com\u001b[38;5;241m.\u001b[39mget_cython_func(func)\n",
      "File \u001b[0;32m~/Library/Python/3.9/lib/python/site-packages/pandas/core/apply.py:326\u001b[0m, in \u001b[0;36mApply.agg_list_like\u001b[0;34m(self)\u001b[0m\n\u001b[1;32m    318\u001b[0m \u001b[38;5;28;01mdef\u001b[39;00m \u001b[38;5;21magg_list_like\u001b[39m(\u001b[38;5;28mself\u001b[39m) \u001b[38;5;241m-\u001b[39m\u001b[38;5;241m>\u001b[39m DataFrame \u001b[38;5;241m|\u001b[39m Series:\n\u001b[1;32m    319\u001b[0m \u001b[38;5;250m    \u001b[39m\u001b[38;5;124;03m\"\"\"\u001b[39;00m\n\u001b[1;32m    320\u001b[0m \u001b[38;5;124;03m    Compute aggregation in the case of a list-like argument.\u001b[39;00m\n\u001b[1;32m    321\u001b[0m \n\u001b[0;32m   (...)\u001b[0m\n\u001b[1;32m    324\u001b[0m \u001b[38;5;124;03m    Result of aggregation.\u001b[39;00m\n\u001b[1;32m    325\u001b[0m \u001b[38;5;124;03m    \"\"\"\u001b[39;00m\n\u001b[0;32m--> 326\u001b[0m     \u001b[38;5;28;01mreturn\u001b[39;00m \u001b[38;5;28;43mself\u001b[39;49m\u001b[38;5;241;43m.\u001b[39;49m\u001b[43magg_or_apply_list_like\u001b[49m\u001b[43m(\u001b[49m\u001b[43mop_name\u001b[49m\u001b[38;5;241;43m=\u001b[39;49m\u001b[38;5;124;43m\"\u001b[39;49m\u001b[38;5;124;43magg\u001b[39;49m\u001b[38;5;124;43m\"\u001b[39;49m\u001b[43m)\u001b[49m\n",
      "File \u001b[0;32m~/Library/Python/3.9/lib/python/site-packages/pandas/core/apply.py:1571\u001b[0m, in \u001b[0;36mGroupByApply.agg_or_apply_list_like\u001b[0;34m(self, op_name)\u001b[0m\n\u001b[1;32m   1566\u001b[0m \u001b[38;5;66;03m# Only set as_index=True on groupby objects, not Window or Resample\u001b[39;00m\n\u001b[1;32m   1567\u001b[0m \u001b[38;5;66;03m# that inherit from this class.\u001b[39;00m\n\u001b[1;32m   1568\u001b[0m \u001b[38;5;28;01mwith\u001b[39;00m com\u001b[38;5;241m.\u001b[39mtemp_setattr(\n\u001b[1;32m   1569\u001b[0m     obj, \u001b[38;5;124m\"\u001b[39m\u001b[38;5;124mas_index\u001b[39m\u001b[38;5;124m\"\u001b[39m, \u001b[38;5;28;01mTrue\u001b[39;00m, condition\u001b[38;5;241m=\u001b[39m\u001b[38;5;28mhasattr\u001b[39m(obj, \u001b[38;5;124m\"\u001b[39m\u001b[38;5;124mas_index\u001b[39m\u001b[38;5;124m\"\u001b[39m)\n\u001b[1;32m   1570\u001b[0m ):\n\u001b[0;32m-> 1571\u001b[0m     keys, results \u001b[38;5;241m=\u001b[39m \u001b[38;5;28;43mself\u001b[39;49m\u001b[38;5;241;43m.\u001b[39;49m\u001b[43mcompute_list_like\u001b[49m\u001b[43m(\u001b[49m\u001b[43mop_name\u001b[49m\u001b[43m,\u001b[49m\u001b[43m \u001b[49m\u001b[43mselected_obj\u001b[49m\u001b[43m,\u001b[49m\u001b[43m \u001b[49m\u001b[43mkwargs\u001b[49m\u001b[43m)\u001b[49m\n\u001b[1;32m   1572\u001b[0m result \u001b[38;5;241m=\u001b[39m \u001b[38;5;28mself\u001b[39m\u001b[38;5;241m.\u001b[39mwrap_results_list_like(keys, results)\n\u001b[1;32m   1573\u001b[0m \u001b[38;5;28;01mreturn\u001b[39;00m result\n",
      "File \u001b[0;32m~/Library/Python/3.9/lib/python/site-packages/pandas/core/apply.py:385\u001b[0m, in \u001b[0;36mApply.compute_list_like\u001b[0;34m(self, op_name, selected_obj, kwargs)\u001b[0m\n\u001b[1;32m    379\u001b[0m colg \u001b[38;5;241m=\u001b[39m obj\u001b[38;5;241m.\u001b[39m_gotitem(col, ndim\u001b[38;5;241m=\u001b[39m\u001b[38;5;241m1\u001b[39m, subset\u001b[38;5;241m=\u001b[39mselected_obj\u001b[38;5;241m.\u001b[39miloc[:, index])\n\u001b[1;32m    380\u001b[0m args \u001b[38;5;241m=\u001b[39m (\n\u001b[1;32m    381\u001b[0m     [\u001b[38;5;28mself\u001b[39m\u001b[38;5;241m.\u001b[39maxis, \u001b[38;5;241m*\u001b[39m\u001b[38;5;28mself\u001b[39m\u001b[38;5;241m.\u001b[39margs]\n\u001b[1;32m    382\u001b[0m     \u001b[38;5;28;01mif\u001b[39;00m include_axis(op_name, colg)\n\u001b[1;32m    383\u001b[0m     \u001b[38;5;28;01melse\u001b[39;00m \u001b[38;5;28mself\u001b[39m\u001b[38;5;241m.\u001b[39margs\n\u001b[1;32m    384\u001b[0m )\n\u001b[0;32m--> 385\u001b[0m new_res \u001b[38;5;241m=\u001b[39m \u001b[38;5;28;43mgetattr\u001b[39;49m\u001b[43m(\u001b[49m\u001b[43mcolg\u001b[49m\u001b[43m,\u001b[49m\u001b[43m \u001b[49m\u001b[43mop_name\u001b[49m\u001b[43m)\u001b[49m\u001b[43m(\u001b[49m\u001b[43mfunc\u001b[49m\u001b[43m,\u001b[49m\u001b[43m \u001b[49m\u001b[38;5;241;43m*\u001b[39;49m\u001b[43margs\u001b[49m\u001b[43m,\u001b[49m\u001b[43m \u001b[49m\u001b[38;5;241;43m*\u001b[39;49m\u001b[38;5;241;43m*\u001b[39;49m\u001b[43mkwargs\u001b[49m\u001b[43m)\u001b[49m\n\u001b[1;32m    386\u001b[0m results\u001b[38;5;241m.\u001b[39mappend(new_res)\n\u001b[1;32m    387\u001b[0m indices\u001b[38;5;241m.\u001b[39mappend(index)\n",
      "File \u001b[0;32m~/Library/Python/3.9/lib/python/site-packages/pandas/core/groupby/generic.py:257\u001b[0m, in \u001b[0;36mSeriesGroupBy.aggregate\u001b[0;34m(self, func, engine, engine_kwargs, *args, **kwargs)\u001b[0m\n\u001b[1;32m    255\u001b[0m kwargs[\u001b[38;5;124m\"\u001b[39m\u001b[38;5;124mengine\u001b[39m\u001b[38;5;124m\"\u001b[39m] \u001b[38;5;241m=\u001b[39m engine\n\u001b[1;32m    256\u001b[0m kwargs[\u001b[38;5;124m\"\u001b[39m\u001b[38;5;124mengine_kwargs\u001b[39m\u001b[38;5;124m\"\u001b[39m] \u001b[38;5;241m=\u001b[39m engine_kwargs\n\u001b[0;32m--> 257\u001b[0m ret \u001b[38;5;241m=\u001b[39m \u001b[38;5;28;43mself\u001b[39;49m\u001b[38;5;241;43m.\u001b[39;49m\u001b[43m_aggregate_multiple_funcs\u001b[49m\u001b[43m(\u001b[49m\u001b[43mfunc\u001b[49m\u001b[43m,\u001b[49m\u001b[43m \u001b[49m\u001b[38;5;241;43m*\u001b[39;49m\u001b[43margs\u001b[49m\u001b[43m,\u001b[49m\u001b[43m \u001b[49m\u001b[38;5;241;43m*\u001b[39;49m\u001b[38;5;241;43m*\u001b[39;49m\u001b[43mkwargs\u001b[49m\u001b[43m)\u001b[49m\n\u001b[1;32m    258\u001b[0m \u001b[38;5;28;01mif\u001b[39;00m relabeling:\n\u001b[1;32m    259\u001b[0m     \u001b[38;5;66;03m# columns is not narrowed by mypy from relabeling flag\u001b[39;00m\n\u001b[1;32m    260\u001b[0m     \u001b[38;5;28;01massert\u001b[39;00m columns \u001b[38;5;129;01mis\u001b[39;00m \u001b[38;5;129;01mnot\u001b[39;00m \u001b[38;5;28;01mNone\u001b[39;00m  \u001b[38;5;66;03m# for mypy\u001b[39;00m\n",
      "File \u001b[0;32m~/Library/Python/3.9/lib/python/site-packages/pandas/core/groupby/generic.py:362\u001b[0m, in \u001b[0;36mSeriesGroupBy._aggregate_multiple_funcs\u001b[0;34m(self, arg, *args, **kwargs)\u001b[0m\n\u001b[1;32m    360\u001b[0m     \u001b[38;5;28;01mfor\u001b[39;00m idx, (name, func) \u001b[38;5;129;01min\u001b[39;00m \u001b[38;5;28menumerate\u001b[39m(arg):\n\u001b[1;32m    361\u001b[0m         key \u001b[38;5;241m=\u001b[39m base\u001b[38;5;241m.\u001b[39mOutputKey(label\u001b[38;5;241m=\u001b[39mname, position\u001b[38;5;241m=\u001b[39midx)\n\u001b[0;32m--> 362\u001b[0m         results[key] \u001b[38;5;241m=\u001b[39m \u001b[38;5;28;43mself\u001b[39;49m\u001b[38;5;241;43m.\u001b[39;49m\u001b[43maggregate\u001b[49m\u001b[43m(\u001b[49m\u001b[43mfunc\u001b[49m\u001b[43m,\u001b[49m\u001b[43m \u001b[49m\u001b[38;5;241;43m*\u001b[39;49m\u001b[43margs\u001b[49m\u001b[43m,\u001b[49m\u001b[43m \u001b[49m\u001b[38;5;241;43m*\u001b[39;49m\u001b[38;5;241;43m*\u001b[39;49m\u001b[43mkwargs\u001b[49m\u001b[43m)\u001b[49m\n\u001b[1;32m    364\u001b[0m \u001b[38;5;28;01mif\u001b[39;00m \u001b[38;5;28many\u001b[39m(\u001b[38;5;28misinstance\u001b[39m(x, DataFrame) \u001b[38;5;28;01mfor\u001b[39;00m x \u001b[38;5;129;01min\u001b[39;00m results\u001b[38;5;241m.\u001b[39mvalues()):\n\u001b[1;32m    365\u001b[0m     \u001b[38;5;28;01mfrom\u001b[39;00m \u001b[38;5;21;01mpandas\u001b[39;00m \u001b[38;5;28;01mimport\u001b[39;00m concat\n",
      "File \u001b[0;32m~/Library/Python/3.9/lib/python/site-packages/pandas/core/groupby/generic.py:249\u001b[0m, in \u001b[0;36mSeriesGroupBy.aggregate\u001b[0;34m(self, func, engine, engine_kwargs, *args, **kwargs)\u001b[0m\n\u001b[1;32m    247\u001b[0m     \u001b[38;5;28;01mif\u001b[39;00m engine_kwargs \u001b[38;5;129;01mis\u001b[39;00m \u001b[38;5;129;01mnot\u001b[39;00m \u001b[38;5;28;01mNone\u001b[39;00m:\n\u001b[1;32m    248\u001b[0m         kwargs[\u001b[38;5;124m\"\u001b[39m\u001b[38;5;124mengine_kwargs\u001b[39m\u001b[38;5;124m\"\u001b[39m] \u001b[38;5;241m=\u001b[39m engine_kwargs\n\u001b[0;32m--> 249\u001b[0m     \u001b[38;5;28;01mreturn\u001b[39;00m \u001b[38;5;28;43mgetattr\u001b[39;49m\u001b[43m(\u001b[49m\u001b[38;5;28;43mself\u001b[39;49m\u001b[43m,\u001b[49m\u001b[43m \u001b[49m\u001b[43mfunc\u001b[49m\u001b[43m)\u001b[49m\u001b[43m(\u001b[49m\u001b[38;5;241;43m*\u001b[39;49m\u001b[43margs\u001b[49m\u001b[43m,\u001b[49m\u001b[43m \u001b[49m\u001b[38;5;241;43m*\u001b[39;49m\u001b[38;5;241;43m*\u001b[39;49m\u001b[43mkwargs\u001b[49m\u001b[43m)\u001b[49m\n\u001b[1;32m    251\u001b[0m \u001b[38;5;28;01melif\u001b[39;00m \u001b[38;5;28misinstance\u001b[39m(func, abc\u001b[38;5;241m.\u001b[39mIterable):\n\u001b[1;32m    252\u001b[0m     \u001b[38;5;66;03m# Catch instances of lists / tuples\u001b[39;00m\n\u001b[1;32m    253\u001b[0m     \u001b[38;5;66;03m# but not the class list / tuple itself.\u001b[39;00m\n\u001b[1;32m    254\u001b[0m     func \u001b[38;5;241m=\u001b[39m maybe_mangle_lambdas(func)\n",
      "File \u001b[0;32m~/Library/Python/3.9/lib/python/site-packages/pandas/core/groupby/groupby.py:2452\u001b[0m, in \u001b[0;36mGroupBy.mean\u001b[0;34m(self, numeric_only, engine, engine_kwargs)\u001b[0m\n\u001b[1;32m   2445\u001b[0m     \u001b[38;5;28;01mreturn\u001b[39;00m \u001b[38;5;28mself\u001b[39m\u001b[38;5;241m.\u001b[39m_numba_agg_general(\n\u001b[1;32m   2446\u001b[0m         grouped_mean,\n\u001b[1;32m   2447\u001b[0m         executor\u001b[38;5;241m.\u001b[39mfloat_dtype_mapping,\n\u001b[1;32m   2448\u001b[0m         engine_kwargs,\n\u001b[1;32m   2449\u001b[0m         min_periods\u001b[38;5;241m=\u001b[39m\u001b[38;5;241m0\u001b[39m,\n\u001b[1;32m   2450\u001b[0m     )\n\u001b[1;32m   2451\u001b[0m \u001b[38;5;28;01melse\u001b[39;00m:\n\u001b[0;32m-> 2452\u001b[0m     result \u001b[38;5;241m=\u001b[39m \u001b[38;5;28;43mself\u001b[39;49m\u001b[38;5;241;43m.\u001b[39;49m\u001b[43m_cython_agg_general\u001b[49m\u001b[43m(\u001b[49m\n\u001b[1;32m   2453\u001b[0m \u001b[43m        \u001b[49m\u001b[38;5;124;43m\"\u001b[39;49m\u001b[38;5;124;43mmean\u001b[39;49m\u001b[38;5;124;43m\"\u001b[39;49m\u001b[43m,\u001b[49m\n\u001b[1;32m   2454\u001b[0m \u001b[43m        \u001b[49m\u001b[43malt\u001b[49m\u001b[38;5;241;43m=\u001b[39;49m\u001b[38;5;28;43;01mlambda\u001b[39;49;00m\u001b[43m \u001b[49m\u001b[43mx\u001b[49m\u001b[43m:\u001b[49m\u001b[43m \u001b[49m\u001b[43mSeries\u001b[49m\u001b[43m(\u001b[49m\u001b[43mx\u001b[49m\u001b[43m,\u001b[49m\u001b[43m \u001b[49m\u001b[43mcopy\u001b[49m\u001b[38;5;241;43m=\u001b[39;49m\u001b[38;5;28;43;01mFalse\u001b[39;49;00m\u001b[43m)\u001b[49m\u001b[38;5;241;43m.\u001b[39;49m\u001b[43mmean\u001b[49m\u001b[43m(\u001b[49m\u001b[43mnumeric_only\u001b[49m\u001b[38;5;241;43m=\u001b[39;49m\u001b[43mnumeric_only\u001b[49m\u001b[43m)\u001b[49m\u001b[43m,\u001b[49m\n\u001b[1;32m   2455\u001b[0m \u001b[43m        \u001b[49m\u001b[43mnumeric_only\u001b[49m\u001b[38;5;241;43m=\u001b[39;49m\u001b[43mnumeric_only\u001b[49m\u001b[43m,\u001b[49m\n\u001b[1;32m   2456\u001b[0m \u001b[43m    \u001b[49m\u001b[43m)\u001b[49m\n\u001b[1;32m   2457\u001b[0m     \u001b[38;5;28;01mreturn\u001b[39;00m result\u001b[38;5;241m.\u001b[39m__finalize__(\u001b[38;5;28mself\u001b[39m\u001b[38;5;241m.\u001b[39mobj, method\u001b[38;5;241m=\u001b[39m\u001b[38;5;124m\"\u001b[39m\u001b[38;5;124mgroupby\u001b[39m\u001b[38;5;124m\"\u001b[39m)\n",
      "File \u001b[0;32m~/Library/Python/3.9/lib/python/site-packages/pandas/core/groupby/groupby.py:1998\u001b[0m, in \u001b[0;36mGroupBy._cython_agg_general\u001b[0;34m(self, how, alt, numeric_only, min_count, **kwargs)\u001b[0m\n\u001b[1;32m   1995\u001b[0m     result \u001b[38;5;241m=\u001b[39m \u001b[38;5;28mself\u001b[39m\u001b[38;5;241m.\u001b[39m_agg_py_fallback(how, values, ndim\u001b[38;5;241m=\u001b[39mdata\u001b[38;5;241m.\u001b[39mndim, alt\u001b[38;5;241m=\u001b[39malt)\n\u001b[1;32m   1996\u001b[0m     \u001b[38;5;28;01mreturn\u001b[39;00m result\n\u001b[0;32m-> 1998\u001b[0m new_mgr \u001b[38;5;241m=\u001b[39m \u001b[43mdata\u001b[49m\u001b[38;5;241;43m.\u001b[39;49m\u001b[43mgrouped_reduce\u001b[49m\u001b[43m(\u001b[49m\u001b[43marray_func\u001b[49m\u001b[43m)\u001b[49m\n\u001b[1;32m   1999\u001b[0m res \u001b[38;5;241m=\u001b[39m \u001b[38;5;28mself\u001b[39m\u001b[38;5;241m.\u001b[39m_wrap_agged_manager(new_mgr)\n\u001b[1;32m   2000\u001b[0m \u001b[38;5;28;01mif\u001b[39;00m how \u001b[38;5;129;01min\u001b[39;00m [\u001b[38;5;124m\"\u001b[39m\u001b[38;5;124midxmin\u001b[39m\u001b[38;5;124m\"\u001b[39m, \u001b[38;5;124m\"\u001b[39m\u001b[38;5;124midxmax\u001b[39m\u001b[38;5;124m\"\u001b[39m]:\n",
      "File \u001b[0;32m~/Library/Python/3.9/lib/python/site-packages/pandas/core/internals/base.py:367\u001b[0m, in \u001b[0;36mSingleDataManager.grouped_reduce\u001b[0;34m(self, func)\u001b[0m\n\u001b[1;32m    365\u001b[0m \u001b[38;5;28;01mdef\u001b[39;00m \u001b[38;5;21mgrouped_reduce\u001b[39m(\u001b[38;5;28mself\u001b[39m, func):\n\u001b[1;32m    366\u001b[0m     arr \u001b[38;5;241m=\u001b[39m \u001b[38;5;28mself\u001b[39m\u001b[38;5;241m.\u001b[39marray\n\u001b[0;32m--> 367\u001b[0m     res \u001b[38;5;241m=\u001b[39m \u001b[43mfunc\u001b[49m\u001b[43m(\u001b[49m\u001b[43marr\u001b[49m\u001b[43m)\u001b[49m\n\u001b[1;32m    368\u001b[0m     index \u001b[38;5;241m=\u001b[39m default_index(\u001b[38;5;28mlen\u001b[39m(res))\n\u001b[1;32m    370\u001b[0m     mgr \u001b[38;5;241m=\u001b[39m \u001b[38;5;28mtype\u001b[39m(\u001b[38;5;28mself\u001b[39m)\u001b[38;5;241m.\u001b[39mfrom_array(res, index)\n",
      "File \u001b[0;32m~/Library/Python/3.9/lib/python/site-packages/pandas/core/groupby/groupby.py:1995\u001b[0m, in \u001b[0;36mGroupBy._cython_agg_general.<locals>.array_func\u001b[0;34m(values)\u001b[0m\n\u001b[1;32m   1992\u001b[0m     \u001b[38;5;28;01mreturn\u001b[39;00m result\n\u001b[1;32m   1994\u001b[0m \u001b[38;5;28;01massert\u001b[39;00m alt \u001b[38;5;129;01mis\u001b[39;00m \u001b[38;5;129;01mnot\u001b[39;00m \u001b[38;5;28;01mNone\u001b[39;00m\n\u001b[0;32m-> 1995\u001b[0m result \u001b[38;5;241m=\u001b[39m \u001b[38;5;28;43mself\u001b[39;49m\u001b[38;5;241;43m.\u001b[39;49m\u001b[43m_agg_py_fallback\u001b[49m\u001b[43m(\u001b[49m\u001b[43mhow\u001b[49m\u001b[43m,\u001b[49m\u001b[43m \u001b[49m\u001b[43mvalues\u001b[49m\u001b[43m,\u001b[49m\u001b[43m \u001b[49m\u001b[43mndim\u001b[49m\u001b[38;5;241;43m=\u001b[39;49m\u001b[43mdata\u001b[49m\u001b[38;5;241;43m.\u001b[39;49m\u001b[43mndim\u001b[49m\u001b[43m,\u001b[49m\u001b[43m \u001b[49m\u001b[43malt\u001b[49m\u001b[38;5;241;43m=\u001b[39;49m\u001b[43malt\u001b[49m\u001b[43m)\u001b[49m\n\u001b[1;32m   1996\u001b[0m \u001b[38;5;28;01mreturn\u001b[39;00m result\n",
      "File \u001b[0;32m~/Library/Python/3.9/lib/python/site-packages/pandas/core/groupby/groupby.py:1946\u001b[0m, in \u001b[0;36mGroupBy._agg_py_fallback\u001b[0;34m(self, how, values, ndim, alt)\u001b[0m\n\u001b[1;32m   1944\u001b[0m     msg \u001b[38;5;241m=\u001b[39m \u001b[38;5;124mf\u001b[39m\u001b[38;5;124m\"\u001b[39m\u001b[38;5;124magg function failed [how->\u001b[39m\u001b[38;5;132;01m{\u001b[39;00mhow\u001b[38;5;132;01m}\u001b[39;00m\u001b[38;5;124m,dtype->\u001b[39m\u001b[38;5;132;01m{\u001b[39;00mser\u001b[38;5;241m.\u001b[39mdtype\u001b[38;5;132;01m}\u001b[39;00m\u001b[38;5;124m]\u001b[39m\u001b[38;5;124m\"\u001b[39m\n\u001b[1;32m   1945\u001b[0m     \u001b[38;5;66;03m# preserve the kind of exception that raised\u001b[39;00m\n\u001b[0;32m-> 1946\u001b[0m     \u001b[38;5;28;01mraise\u001b[39;00m \u001b[38;5;28mtype\u001b[39m(err)(msg) \u001b[38;5;28;01mfrom\u001b[39;00m \u001b[38;5;21;01merr\u001b[39;00m\n\u001b[1;32m   1948\u001b[0m \u001b[38;5;28;01mif\u001b[39;00m ser\u001b[38;5;241m.\u001b[39mdtype \u001b[38;5;241m==\u001b[39m \u001b[38;5;28mobject\u001b[39m:\n\u001b[1;32m   1949\u001b[0m     res_values \u001b[38;5;241m=\u001b[39m res_values\u001b[38;5;241m.\u001b[39mastype(\u001b[38;5;28mobject\u001b[39m, copy\u001b[38;5;241m=\u001b[39m\u001b[38;5;28;01mFalse\u001b[39;00m)\n",
      "\u001b[0;31mTypeError\u001b[0m: agg function failed [how->mean,dtype->object]"
     ]
    }
   ],
   "source": [
    "dept_stats = employee.groupby('Department').agg(['min', 'mean', 'max'])\n",
    "print(dept_stats)"
   ]
  },
  {
   "cell_type": "markdown",
   "metadata": {},
   "source": [
    "### Bonus Question\n",
    "\n",
    "#### For each department, compute the difference between the maximal salary and the minimal salary.\n",
    "\n",
    "##### * Hint: try using `agg` or `apply` and `lambda`*"
   ]
  },
  {
   "cell_type": "code",
   "execution_count": 59,
   "metadata": {},
   "outputs": [
    {
     "name": "stdout",
     "output_type": "stream",
     "text": [
      "Department\n",
      "HR       40\n",
      "IT       40\n",
      "Sales     0\n",
      "Name: Salary, dtype: int64\n"
     ]
    }
   ],
   "source": [
    "salary_range_by_dept = employee.groupby('Department')['Salary'].agg(lambda x: x.max() - x.min())\n",
    "print(salary_range_by_dept)"
   ]
  },
  {
   "cell_type": "markdown",
   "metadata": {
    "collapsed": true
   },
   "source": [
    "# Challenge 3"
   ]
  },
  {
   "cell_type": "markdown",
   "metadata": {},
   "source": [
    "#### Open the Orders.csv dataset. Name your dataset orders"
   ]
  },
  {
   "cell_type": "code",
   "execution_count": 86,
   "metadata": {},
   "outputs": [
    {
     "name": "stdout",
     "output_type": "stream",
     "text": [
      "        Unnamed: 0  InvoiceNo StockCode  year  month  day  hour  \\\n",
      "0                0     536365    85123A  2010     12    3     8   \n",
      "1                1     536365     71053  2010     12    3     8   \n",
      "2                2     536365    84406B  2010     12    3     8   \n",
      "3                3     536365    84029G  2010     12    3     8   \n",
      "4                4     536365    84029E  2010     12    3     8   \n",
      "...            ...        ...       ...   ...    ...  ...   ...   \n",
      "397919      541904     581587     22613  2011     12    5    12   \n",
      "397920      541905     581587     22899  2011     12    5    12   \n",
      "397921      541906     581587     23254  2011     12    5    12   \n",
      "397922      541907     581587     23255  2011     12    5    12   \n",
      "397923      541908     581587     22138  2011     12    5    12   \n",
      "\n",
      "                                Description  Quantity          InvoiceDate  \\\n",
      "0        white hanging heart t-light holder         6  2010-12-01 08:26:00   \n",
      "1                       white metal lantern         6  2010-12-01 08:26:00   \n",
      "2            cream cupid hearts coat hanger         8  2010-12-01 08:26:00   \n",
      "3       knitted union flag hot water bottle         6  2010-12-01 08:26:00   \n",
      "4            red woolly hottie white heart.         6  2010-12-01 08:26:00   \n",
      "...                                     ...       ...                  ...   \n",
      "397919          pack of 20 spaceboy napkins        12  2011-12-09 12:50:00   \n",
      "397920         children's apron dolly girl          6  2011-12-09 12:50:00   \n",
      "397921        childrens cutlery dolly girl          4  2011-12-09 12:50:00   \n",
      "397922      childrens cutlery circus parade         4  2011-12-09 12:50:00   \n",
      "397923        baking set 9 piece retrospot          3  2011-12-09 12:50:00   \n",
      "\n",
      "        UnitPrice  CustomerID         Country  amount_spent  \n",
      "0            2.55       17850  United Kingdom         15.30  \n",
      "1            3.39       17850  United Kingdom         20.34  \n",
      "2            2.75       17850  United Kingdom         22.00  \n",
      "3            3.39       17850  United Kingdom         20.34  \n",
      "4            3.39       17850  United Kingdom         20.34  \n",
      "...           ...         ...             ...           ...  \n",
      "397919       0.85       12680          France         10.20  \n",
      "397920       2.10       12680          France         12.60  \n",
      "397921       4.15       12680          France         16.60  \n",
      "397922       4.15       12680          France         16.60  \n",
      "397923       4.95       12680          France         14.85  \n",
      "\n",
      "[397924 rows x 14 columns]\n"
     ]
    }
   ],
   "source": [
    "orders = pd.read_csv('Orders.csv')\n",
    "print(orders)"
   ]
  },
  {
   "cell_type": "markdown",
   "metadata": {},
   "source": [
    "#### Explore your dataset by looking at the data types and the summary statistics. Comment your results"
   ]
  },
  {
   "cell_type": "code",
   "execution_count": 63,
   "metadata": {},
   "outputs": [
    {
     "name": "stdout",
     "output_type": "stream",
     "text": [
      "Unnamed: 0        int64\n",
      "InvoiceNo         int64\n",
      "StockCode        object\n",
      "year              int64\n",
      "month             int64\n",
      "day               int64\n",
      "hour              int64\n",
      "Description      object\n",
      "Quantity          int64\n",
      "InvoiceDate      object\n",
      "UnitPrice       float64\n",
      "CustomerID        int64\n",
      "Country          object\n",
      "amount_spent    float64\n",
      "dtype: object\n"
     ]
    }
   ],
   "source": [
    "print(orders.dtypes)\n"
   ]
  },
  {
   "cell_type": "code",
   "execution_count": 64,
   "metadata": {},
   "outputs": [
    {
     "name": "stdout",
     "output_type": "stream",
     "text": [
      "          Unnamed: 0      InvoiceNo           year          month  \\\n",
      "count  397924.000000  397924.000000  397924.000000  397924.000000   \n",
      "mean   278465.221859  560617.126645    2010.934259       7.612537   \n",
      "std    152771.368303   13106.167695       0.247829       3.416527   \n",
      "min         0.000000  536365.000000    2010.000000       1.000000   \n",
      "25%    148333.750000  549234.000000    2011.000000       5.000000   \n",
      "50%    284907.500000  561893.000000    2011.000000       8.000000   \n",
      "75%    410079.250000  572090.000000    2011.000000      11.000000   \n",
      "max    541908.000000  581587.000000    2011.000000      12.000000   \n",
      "\n",
      "                 day           hour       Quantity      UnitPrice  \\\n",
      "count  397924.000000  397924.000000  397924.000000  397924.000000   \n",
      "mean        3.614555      12.728247      13.021823       3.116174   \n",
      "std         1.928274       2.273535     180.420210      22.096788   \n",
      "min         1.000000       6.000000       1.000000       0.000000   \n",
      "25%         2.000000      11.000000       2.000000       1.250000   \n",
      "50%         3.000000      13.000000       6.000000       1.950000   \n",
      "75%         5.000000      14.000000      12.000000       3.750000   \n",
      "max         7.000000      20.000000   80995.000000    8142.750000   \n",
      "\n",
      "          CustomerID   amount_spent  \n",
      "count  397924.000000  397924.000000  \n",
      "mean    15294.315171      22.394749  \n",
      "std      1713.169877     309.055588  \n",
      "min     12346.000000       0.000000  \n",
      "25%     13969.000000       4.680000  \n",
      "50%     15159.000000      11.800000  \n",
      "75%     16795.000000      19.800000  \n",
      "max     18287.000000  168469.600000  \n"
     ]
    }
   ],
   "source": [
    "print(orders.describe())\n"
   ]
  },
  {
   "cell_type": "markdown",
   "metadata": {},
   "source": [
    "####  What is the average Purchase Price?"
   ]
  },
  {
   "cell_type": "code",
   "execution_count": 69,
   "metadata": {},
   "outputs": [
    {
     "name": "stdout",
     "output_type": "stream",
     "text": [
      "22.394748504739596\n"
     ]
    }
   ],
   "source": [
    "avg_purchase_price = orders['amount_spent'].mean()\n",
    "print(avg_purchase_price)"
   ]
  },
  {
   "cell_type": "markdown",
   "metadata": {},
   "source": [
    "#### What were the highest and lowest purchase prices? "
   ]
  },
  {
   "cell_type": "code",
   "execution_count": 70,
   "metadata": {},
   "outputs": [
    {
     "name": "stdout",
     "output_type": "stream",
     "text": [
      "Highest purchase price: 168469.6\n",
      "Lowest purchase price: 0.0\n"
     ]
    }
   ],
   "source": [
    "highest_purchase_price = orders['amount_spent'].max()\n",
    "lowest_purchase_price = orders['amount_spent'].min()\n",
    "print(f\"Highest purchase price: {highest_purchase_price}\")\n",
    "print(f\"Lowest purchase price: {lowest_purchase_price}\")"
   ]
  },
  {
   "cell_type": "code",
   "execution_count": null,
   "metadata": {},
   "outputs": [],
   "source": [
    "# your answer here"
   ]
  },
  {
   "cell_type": "markdown",
   "metadata": {},
   "source": [
    "#### Select all the customers we have in Spain"
   ]
  },
  {
   "cell_type": "code",
   "execution_count": 71,
   "metadata": {},
   "outputs": [
    {
     "name": "stdout",
     "output_type": "stream",
     "text": [
      "        Unnamed: 0  InvoiceNo StockCode  year  month  day  hour  \\\n",
      "4250          6421     536944     22383  2010     12    5    12   \n",
      "4251          6422     536944     22384  2010     12    5    12   \n",
      "4252          6423     536944     20727  2010     12    5    12   \n",
      "4253          6424     536944     20725  2010     12    5    12   \n",
      "4254          6425     536944     20728  2010     12    5    12   \n",
      "...            ...        ...       ...   ...    ...  ...   ...   \n",
      "394733      535271     581193     23291  2011     12    3    17   \n",
      "394734      535272     581193    85232D  2011     12    3    17   \n",
      "394735      535273     581193     22721  2011     12    3    17   \n",
      "394736      535274     581193     23241  2011     12    3    17   \n",
      "394737      535275     581193     23247  2011     12    3    17   \n",
      "\n",
      "                          Description  Quantity          InvoiceDate  \\\n",
      "4250          lunch bag suki  design         70  2010-12-03 12:20:00   \n",
      "4251          lunch bag pink polkadot       100  2010-12-03 12:20:00   \n",
      "4252          lunch bag  black skull.        60  2010-12-03 12:20:00   \n",
      "4253          lunch bag red retrospot        70  2010-12-03 12:20:00   \n",
      "4254              lunch bag cars blue       100  2010-12-03 12:20:00   \n",
      "...                               ...       ...                  ...   \n",
      "394733       dolly girl childrens cup         2  2011-12-07 17:05:00   \n",
      "394734  set/3 decoupage stacking tins         1  2011-12-07 17:05:00   \n",
      "394735  set of 3 cake tins sketchbook         2  2011-12-07 17:05:00   \n",
      "394736   treasure tin gymkhana design         1  2011-12-07 17:05:00   \n",
      "394737     biscuit tin 50's christmas         1  2011-12-07 17:05:00   \n",
      "\n",
      "        UnitPrice  CustomerID Country  amount_spent  \n",
      "4250         1.65       12557   Spain        115.50  \n",
      "4251         1.45       12557   Spain        145.00  \n",
      "4252         1.65       12557   Spain         99.00  \n",
      "4253         1.65       12557   Spain        115.50  \n",
      "4254         1.45       12557   Spain        145.00  \n",
      "...           ...         ...     ...           ...  \n",
      "394733       1.25       17097   Spain          2.50  \n",
      "394734       4.95       17097   Spain          4.95  \n",
      "394735       1.95       17097   Spain          3.90  \n",
      "394736       2.08       17097   Spain          2.08  \n",
      "394737       2.89       17097   Spain          2.89  \n",
      "\n",
      "[2485 rows x 14 columns]\n"
     ]
    }
   ],
   "source": [
    "customers_in_spain = orders[orders['Country'] == 'Spain']\n",
    "print(customers_in_spain)"
   ]
  },
  {
   "cell_type": "markdown",
   "metadata": {},
   "source": [
    "#### How many customers do we have in Spain?\n",
    "##### Hint : Use value_counts()"
   ]
  },
  {
   "cell_type": "code",
   "execution_count": 73,
   "metadata": {},
   "outputs": [
    {
     "name": "stdout",
     "output_type": "stream",
     "text": [
      "30\n"
     ]
    }
   ],
   "source": [
    "num_customers_in_spain = customers_in_spain['CustomerID'].nunique()\n",
    "print(num_customers_in_spain)"
   ]
  },
  {
   "cell_type": "markdown",
   "metadata": {},
   "source": [
    "#### Select all the customers who have bought more than 50 items ?"
   ]
  },
  {
   "cell_type": "code",
   "execution_count": 74,
   "metadata": {},
   "outputs": [
    {
     "name": "stdout",
     "output_type": "stream",
     "text": [
      "        Unnamed: 0  InvoiceNo StockCode  year  month  day  hour  \\\n",
      "46              46     536371     22086  2010     12    3     9   \n",
      "83              83     536376     21733  2010     12    3     9   \n",
      "96              96     536378     21212  2010     12    3     9   \n",
      "102            102     536378    85071B  2010     12    3     9   \n",
      "174            176     536386    85099C  2010     12    3     9   \n",
      "...            ...        ...       ...   ...    ...  ...   ...   \n",
      "397720      541702     581566     23404  2011     12    5    11   \n",
      "397721      541703     581567     21417  2011     12    5    11   \n",
      "397729      541711     581567     21326  2011     12    5    11   \n",
      "397761      541746     581571     23167  2011     12    5    12   \n",
      "397882      541867     581584     20832  2011     12    5    12   \n",
      "\n",
      "                               Description  Quantity          InvoiceDate  \\\n",
      "46         paper chain kit 50's christmas         80  2010-12-01 09:00:00   \n",
      "83        red hanging heart t-light holder        64  2010-12-01 09:32:00   \n",
      "96         pack of 72 retrospot cake cases       120  2010-12-01 09:37:00   \n",
      "102     red charlie+lola personal doorsign        96  2010-12-01 09:37:00   \n",
      "174         jumbo  bag baroque black white       100  2010-12-01 09:57:00   \n",
      "...                                    ...       ...                  ...   \n",
      "397720          home sweet home blackboard       144  2011-12-09 11:50:00   \n",
      "397721                   cockle shell dish        84  2011-12-09 11:56:00   \n",
      "397729    aged glass silver t-light holder       144  2011-12-09 11:56:00   \n",
      "397761      small ceramic top storage jar         96  2011-12-09 12:00:00   \n",
      "397882    red flock love heart photo frame        72  2011-12-09 12:25:00   \n",
      "\n",
      "        UnitPrice  CustomerID         Country  amount_spent  \n",
      "46           2.55       13748  United Kingdom        204.00  \n",
      "83           2.55       15291  United Kingdom        163.20  \n",
      "96           0.42       14688  United Kingdom         50.40  \n",
      "102          0.38       14688  United Kingdom         36.48  \n",
      "174          1.65       16029  United Kingdom        165.00  \n",
      "...           ...         ...             ...           ...  \n",
      "397720       3.26       18102  United Kingdom        469.44  \n",
      "397721       0.79       16626  United Kingdom         66.36  \n",
      "397729       0.55       16626  United Kingdom         79.20  \n",
      "397761       0.69       15311  United Kingdom         66.24  \n",
      "397882       0.72       13777  United Kingdom         51.84  \n",
      "\n",
      "[11609 rows x 14 columns]\n"
     ]
    }
   ],
   "source": [
    "customers_more_than_50_items = orders[orders['Quantity'] > 50]\n",
    "print(customers_more_than_50_items)"
   ]
  },
  {
   "cell_type": "markdown",
   "metadata": {},
   "source": [
    "#### Select orders from Spain that are above 50 items"
   ]
  },
  {
   "cell_type": "code",
   "execution_count": 75,
   "metadata": {},
   "outputs": [
    {
     "name": "stdout",
     "output_type": "stream",
     "text": [
      "        Unnamed: 0  InvoiceNo StockCode  year  month  day  hour  \\\n",
      "4250          6421     536944     22383  2010     12    5    12   \n",
      "4251          6422     536944     22384  2010     12    5    12   \n",
      "4252          6423     536944     20727  2010     12    5    12   \n",
      "4253          6424     536944     20725  2010     12    5    12   \n",
      "4254          6425     536944     20728  2010     12    5    12   \n",
      "32454        52416     540785    84997B  2011      1    2    11   \n",
      "32455        52417     540785    84997D  2011      1    2    11   \n",
      "32456        52418     540785    84997C  2011      1    2    11   \n",
      "32457        52419     540785    84997A  2011      1    2    11   \n",
      "91155       136767     547972     22383  2011      3    1    16   \n",
      "91156       136768     547972     22384  2011      3    1    16   \n",
      "91159       136771     547972     20728  2011      3    1    16   \n",
      "174442      248797     558871     22384  2011      7    1    13   \n",
      "174443      248798     558871     20727  2011      7    1    13   \n",
      "174444      248799     558871     20725  2011      7    1    13   \n",
      "174445      248800     558871     20728  2011      7    1    13   \n",
      "174446      248801     558871    84997B  2011      7    1    13   \n",
      "174447      248802     558871    84997D  2011      7    1    13   \n",
      "174448      248803     558871    84997C  2011      7    1    13   \n",
      "174449      248804     558871    84997A  2011      7    1    13   \n",
      "197167      282906     561669     23295  2011      7    4    17   \n",
      "197168      282907     561669     23297  2011      7    4    17   \n",
      "197169      282908     561669     23294  2011      7    4    17   \n",
      "197170      282909     561669     23296  2011      7    4    17   \n",
      "197171      282910     561669     23293  2011      7    4    17   \n",
      "224881      315702     564734     84826  2011      8    7    13   \n",
      "254097      355752     567968     85204  2011      9    5     9   \n",
      "289129      398626     571255    82494L  2011     10    5    17   \n",
      "289134      398631     571255     82482  2011     10    5    17   \n",
      "289142      398639     571255    72802B  2011     10    5    17   \n",
      "289143      398640     571255    72802C  2011     10    5    17   \n",
      "295956      407272     571851     23167  2011     10    3    13   \n",
      "312655      426665     573362     22598  2011     10    7    13   \n",
      "312656      426666     573362     22597  2011     10    7    13   \n",
      "312657      426667     573362     22599  2011     10    7    13   \n",
      "366326      495739     578321     20728  2011     11    3    16   \n",
      "366327      495740     578321    84997B  2011     11    3    16   \n",
      "366328      495741     578321    84997D  2011     11    3    16   \n",
      "366329      495742     578321    84997C  2011     11    3    16   \n",
      "\n",
      "                                Description  Quantity          InvoiceDate  \\\n",
      "4250                lunch bag suki  design         70  2010-12-03 12:20:00   \n",
      "4251                lunch bag pink polkadot       100  2010-12-03 12:20:00   \n",
      "4252                lunch bag  black skull.        60  2010-12-03 12:20:00   \n",
      "4253                lunch bag red retrospot        70  2010-12-03 12:20:00   \n",
      "4254                    lunch bag cars blue       100  2010-12-03 12:20:00   \n",
      "32454     red 3 piece retrospot cutlery set       144  2011-01-11 11:39:00   \n",
      "32455     pink 3 piece polkadot cutlery set       360  2011-01-11 11:39:00   \n",
      "32456     blue 3 piece polkadot cutlery set       360  2011-01-11 11:39:00   \n",
      "32457    green 3 piece polkadot cutlery set       144  2011-01-11 11:39:00   \n",
      "91155                lunch bag suki design        150  2011-03-28 16:41:00   \n",
      "91156               lunch bag pink polkadot       150  2011-03-28 16:41:00   \n",
      "91159                   lunch bag cars blue       150  2011-03-28 16:41:00   \n",
      "174442              lunch bag pink polkadot       100  2011-07-04 13:19:00   \n",
      "174443              lunch bag  black skull.       100  2011-07-04 13:19:00   \n",
      "174444              lunch bag red retrospot       100  2011-07-04 13:19:00   \n",
      "174445                  lunch bag cars blue       100  2011-07-04 13:19:00   \n",
      "174446     childrens cutlery retrospot red         72  2011-07-04 13:19:00   \n",
      "174447      childrens cutlery polkadot pink       360  2011-07-04 13:19:00   \n",
      "174448      childrens cutlery polkadot blue       360  2011-07-04 13:19:00   \n",
      "174449    childrens cutlery polkadot green         72  2011-07-04 13:19:00   \n",
      "197167     set of 12 mini loaf baking cases       128  2011-07-28 17:09:00   \n",
      "197168  set 40 heart shape petit four cases       144  2011-07-28 17:09:00   \n",
      "197169     set of 6 snack loaf baking cases       128  2011-07-28 17:09:00   \n",
      "197170       set of 6 tea time baking cases       128  2011-07-28 17:09:00   \n",
      "197171    set of 12 fairy cake baking cases       128  2011-07-28 17:09:00   \n",
      "224881       asstd design 3d paper stickers        60  2011-08-28 13:32:00   \n",
      "254097         hanging wood and felt flower        96  2011-09-23 09:44:00   \n",
      "289129          wooden frame antique white         72  2011-10-14 17:13:00   \n",
      "289134    wooden picture frame white finish        72  2011-10-14 17:13:00   \n",
      "289142   ocean scent candle in jewelled box       200  2011-10-14 17:13:00   \n",
      "289143    vanilla scent candle jewelled box       288  2011-10-14 17:13:00   \n",
      "295956       small ceramic top storage jar         96  2011-10-19 13:02:00   \n",
      "312655          christmas musical zinc tree        72  2011-10-30 13:06:00   \n",
      "312656       musical zinc heart decoration         72  2011-10-30 13:06:00   \n",
      "312657          christmas musical zinc star        72  2011-10-30 13:06:00   \n",
      "366326                  lunch bag cars blue       200  2011-11-23 16:59:00   \n",
      "366327     childrens cutlery retrospot red         72  2011-11-23 16:59:00   \n",
      "366328      childrens cutlery polkadot pink       360  2011-11-23 16:59:00   \n",
      "366329      childrens cutlery polkadot blue       288  2011-11-23 16:59:00   \n",
      "\n",
      "        UnitPrice  CustomerID Country  amount_spent  \n",
      "4250         1.65       12557   Spain        115.50  \n",
      "4251         1.45       12557   Spain        145.00  \n",
      "4252         1.65       12557   Spain         99.00  \n",
      "4253         1.65       12557   Spain        115.50  \n",
      "4254         1.45       12557   Spain        145.00  \n",
      "32454        3.39       12557   Spain        488.16  \n",
      "32455        3.39       12557   Spain       1220.40  \n",
      "32456        3.39       12557   Spain       1220.40  \n",
      "32457        3.39       12557   Spain        488.16  \n",
      "91155        1.45       12557   Spain        217.50  \n",
      "91156        1.45       12557   Spain        217.50  \n",
      "91159        1.45       12557   Spain        217.50  \n",
      "174442       1.45       12557   Spain        145.00  \n",
      "174443       1.45       12557   Spain        145.00  \n",
      "174444       1.45       12557   Spain        145.00  \n",
      "174445       1.45       12557   Spain        145.00  \n",
      "174446       3.75       12557   Spain        270.00  \n",
      "174447       3.75       12557   Spain       1350.00  \n",
      "174448       3.75       12557   Spain       1350.00  \n",
      "174449       3.75       12557   Spain        270.00  \n",
      "197167       0.72       12507   Spain         92.16  \n",
      "197168       1.45       12507   Spain        208.80  \n",
      "197169       0.72       12507   Spain         92.16  \n",
      "197170       1.04       12507   Spain        133.12  \n",
      "197171       0.72       12507   Spain         92.16  \n",
      "224881       0.85       12484   Spain         51.00  \n",
      "254097       0.12       12546   Spain         11.52  \n",
      "289129       2.55       12454   Spain        183.60  \n",
      "289134       2.55       12454   Spain        183.60  \n",
      "289142       1.25       12454   Spain        250.00  \n",
      "289143       1.25       12454   Spain        360.00  \n",
      "295956       0.69       12596   Spain         66.24  \n",
      "312655       0.29       12597   Spain         20.88  \n",
      "312656       0.29       12597   Spain         20.88  \n",
      "312657       0.29       12597   Spain         20.88  \n",
      "366326       1.45       12557   Spain        290.00  \n",
      "366327       3.75       12557   Spain        270.00  \n",
      "366328       3.75       12557   Spain       1350.00  \n",
      "366329       3.75       12557   Spain       1080.00  \n"
     ]
    }
   ],
   "source": [
    "orders_spain_above_50 = customers_in_spain[customers_in_spain['Quantity'] > 50]\n",
    "print(orders_spain_above_50)"
   ]
  },
  {
   "cell_type": "markdown",
   "metadata": {},
   "source": [
    "#### Select all free orders"
   ]
  },
  {
   "cell_type": "code",
   "execution_count": 76,
   "metadata": {
    "scrolled": true
   },
   "outputs": [
    {
     "name": "stdout",
     "output_type": "stream",
     "text": [
      "        Unnamed: 0  InvoiceNo StockCode  year  month  day  hour  \\\n",
      "6914          9302     537197     22841  2010     12    7    14   \n",
      "22539        33576     539263     22580  2010     12    4    14   \n",
      "25379        40089     539722     22423  2010     12    2    13   \n",
      "29080        47068     540372     22090  2011      1    4    16   \n",
      "29082        47070     540372     22553  2011      1    4    16   \n",
      "34494        56674     541109     22168  2011      1    4    15   \n",
      "53788        86789     543599    84535B  2011      2    4    13   \n",
      "85671       130188     547417     22062  2011      3    3    10   \n",
      "92875       139453     548318     22055  2011      3    3    12   \n",
      "97430       145208     548871     22162  2011      4    1    14   \n",
      "107192      157042     550188     22636  2011      4    4    18   \n",
      "128641      187613     553000     47566  2011      5    4    15   \n",
      "137127      198383     554037     22619  2011      5    5    14   \n",
      "194648      279324     561284     22167  2011      7    2    12   \n",
      "197173      282912     561669     22960  2011      7    4    17   \n",
      "199711      285657     561916         M  2011      8    1    11   \n",
      "208950      298054     562973     23157  2011      8    4    11   \n",
      "223931      314745     564651     23270  2011      8    5    14   \n",
      "223932      314746     564651     23268  2011      8    5    14   \n",
      "223933      314747     564651     22955  2011      8    5    14   \n",
      "223934      314748     564651     21786  2011      8    5    14   \n",
      "256263      358655     568158      PADS  2011      9    7    12   \n",
      "259399      361825     568384         M  2011      9    2     9   \n",
      "273926      379913     569716     22778  2011     10    4     8   \n",
      "286507      395529     571035         M  2011     10    4    12   \n",
      "307092      420404     572893     21208  2011     10    3    14   \n",
      "319882      436428     574138     23234  2011     11    4    11   \n",
      "320049      436597     574175     22065  2011     11    4    11   \n",
      "320407      436961     574252         M  2011     11    4    13   \n",
      "322279      439361     574469     22385  2011     11    5    11   \n",
      "328385      446125     574879     22625  2011     11    1    13   \n",
      "329006      446793     574920     22899  2011     11    1    16   \n",
      "329007      446794     574920     23480  2011     11    1    16   \n",
      "334242      454463     575579     22437  2011     11    4    11   \n",
      "334243      454464     575579     22089  2011     11    4    11   \n",
      "352746      479079     577129     22464  2011     11    4    19   \n",
      "353097      479546     577168         M  2011     11    5    10   \n",
      "354170      480649     577314     23407  2011     11    5    13   \n",
      "358629      485985     577696         M  2011     11    1    11   \n",
      "370473      502122     578841     84826  2011     11    5    15   \n",
      "\n",
      "                                Description  Quantity          InvoiceDate  \\\n",
      "6914           round cake tin vintage green         1  2010-12-05 14:02:00   \n",
      "22539          advent calendar gingham sack         4  2010-12-16 14:36:00   \n",
      "25379              regency cakestand 3 tier        10  2010-12-21 13:45:00   \n",
      "29080               paper bunting retrospot        24  2011-01-06 16:41:00   \n",
      "29082                plasters in tin skulls        24  2011-01-06 16:41:00   \n",
      "34494         organiser wood antique white          1  2011-01-13 15:10:00   \n",
      "53788          fairy cakes notebook a6 size        16  2011-02-10 13:08:00   \n",
      "85671   ceramic bowl with love heart design        36  2011-03-23 10:25:00   \n",
      "92875    mini cake stand  hanging strawbery         5  2011-03-30 12:45:00   \n",
      "97430           heart garland rustic padded         2  2011-04-04 14:42:00   \n",
      "107192   childs breakfast set circus parade         1  2011-04-14 18:57:00   \n",
      "128641                        party bunting         4  2011-05-12 15:21:00   \n",
      "137127            set of 6 soldier skittles        80  2011-05-20 14:13:00   \n",
      "194648           oval wall mirror diamante          1  2011-07-26 12:24:00   \n",
      "197173             jam making set with jars        11  2011-07-28 17:09:00   \n",
      "199711                               manual         1  2011-08-01 11:44:00   \n",
      "208950           set of 6 nativity magnets        240  2011-08-11 11:42:00   \n",
      "223931     set of 2 ceramic painted hearts         96  2011-08-26 14:19:00   \n",
      "223932  set of 2 ceramic christmas reindeer       192  2011-08-26 14:19:00   \n",
      "223933             36 foil star cake cases        144  2011-08-26 14:19:00   \n",
      "223934                   polkadot rain hat        144  2011-08-26 14:19:00   \n",
      "256263           pads to match all cushions         1  2011-09-25 12:22:00   \n",
      "259399                               manual         1  2011-09-27 09:46:00   \n",
      "273926                   glass cloche small         2  2011-10-06 08:17:00   \n",
      "286507                               manual         1  2011-10-13 12:50:00   \n",
      "307092          pastel colour honeycomb fan         5  2011-10-26 14:36:00   \n",
      "319882        biscuit tin vintage christmas       216  2011-11-03 11:26:00   \n",
      "320049       christmas pudding trinket pot         12  2011-11-03 11:47:00   \n",
      "320407                               manual         1  2011-11-03 13:24:00   \n",
      "322279            jumbo bag spaceboy design        12  2011-11-04 11:55:00   \n",
      "328385                   red kitchen scales         2  2011-11-07 13:22:00   \n",
      "329006         children's apron dolly girl          1  2011-11-07 16:34:00   \n",
      "329007       mini lights woodland mushrooms         1  2011-11-07 16:34:00   \n",
      "334242        set of 9 black skull balloons        20  2011-11-10 11:49:00   \n",
      "334243        paper bunting vintage paisley        24  2011-11-10 11:49:00   \n",
      "352746          hanging metal heart lantern         4  2011-11-17 19:52:00   \n",
      "353097                               manual         1  2011-11-18 10:42:00   \n",
      "354170       set of 2 trays home sweet home         2  2011-11-18 13:23:00   \n",
      "358629                               manual         1  2011-11-21 11:57:00   \n",
      "370473       asstd design 3d paper stickers     12540  2011-11-25 15:57:00   \n",
      "\n",
      "        UnitPrice  CustomerID         Country  amount_spent  \n",
      "6914          0.0       12647         Germany           0.0  \n",
      "22539         0.0       16560  United Kingdom           0.0  \n",
      "25379         0.0       14911            EIRE           0.0  \n",
      "29080         0.0       13081  United Kingdom           0.0  \n",
      "29082         0.0       13081  United Kingdom           0.0  \n",
      "34494         0.0       15107  United Kingdom           0.0  \n",
      "53788         0.0       17560  United Kingdom           0.0  \n",
      "85671         0.0       13239  United Kingdom           0.0  \n",
      "92875         0.0       13113  United Kingdom           0.0  \n",
      "97430         0.0       14410  United Kingdom           0.0  \n",
      "107192        0.0       12457     Switzerland           0.0  \n",
      "128641        0.0       17667  United Kingdom           0.0  \n",
      "137127        0.0       12415       Australia           0.0  \n",
      "194648        0.0       16818  United Kingdom           0.0  \n",
      "197173        0.0       12507           Spain           0.0  \n",
      "199711        0.0       15581  United Kingdom           0.0  \n",
      "208950        0.0       14911            EIRE           0.0  \n",
      "223931        0.0       14646     Netherlands           0.0  \n",
      "223932        0.0       14646     Netherlands           0.0  \n",
      "223933        0.0       14646     Netherlands           0.0  \n",
      "223934        0.0       14646     Netherlands           0.0  \n",
      "256263        0.0       16133  United Kingdom           0.0  \n",
      "259399        0.0       12748  United Kingdom           0.0  \n",
      "273926        0.0       15804  United Kingdom           0.0  \n",
      "286507        0.0       12446             RSA           0.0  \n",
      "307092        0.0       18059  United Kingdom           0.0  \n",
      "319882        0.0       12415       Australia           0.0  \n",
      "320049        0.0       14110  United Kingdom           0.0  \n",
      "320407        0.0       12437          France           0.0  \n",
      "322279        0.0       12431       Australia           0.0  \n",
      "328385        0.0       13014  United Kingdom           0.0  \n",
      "329006        0.0       13985  United Kingdom           0.0  \n",
      "329007        0.0       13985  United Kingdom           0.0  \n",
      "334242        0.0       13081  United Kingdom           0.0  \n",
      "334243        0.0       13081  United Kingdom           0.0  \n",
      "352746        0.0       15602  United Kingdom           0.0  \n",
      "353097        0.0       12603         Germany           0.0  \n",
      "354170        0.0       12444          Norway           0.0  \n",
      "358629        0.0       16406  United Kingdom           0.0  \n",
      "370473        0.0       13256  United Kingdom           0.0  \n"
     ]
    }
   ],
   "source": [
    "free_orders = orders[orders['amount_spent'] == 0]\n",
    "print(free_orders)"
   ]
  },
  {
   "cell_type": "markdown",
   "metadata": {},
   "source": [
    "#### Select all orders that are 'lunch bag'\n",
    "#### Hint: Use string functions"
   ]
  },
  {
   "cell_type": "code",
   "execution_count": 78,
   "metadata": {},
   "outputs": [
    {
     "name": "stdout",
     "output_type": "stream",
     "text": [
      "        Unnamed: 0  InvoiceNo StockCode  year  month  day  hour  \\\n",
      "93              93     536378     20725  2010     12    3     9   \n",
      "172            174     536385     22662  2010     12    3     9   \n",
      "354            363     536401     22662  2010     12    3    11   \n",
      "359            368     536401     20725  2010     12    3    11   \n",
      "360            369     536401     22382  2010     12    3    11   \n",
      "...            ...        ...       ...   ...    ...  ...   ...   \n",
      "397465      540436     581486     23207  2011     12    5     9   \n",
      "397713      541695     581538     20727  2011     12    5    11   \n",
      "397714      541696     581538     20725  2011     12    5    11   \n",
      "397877      541862     581581     23681  2011     12    5    12   \n",
      "397880      541865     581583     20725  2011     12    5    12   \n",
      "\n",
      "                        Description  Quantity          InvoiceDate  UnitPrice  \\\n",
      "93          lunch bag red retrospot        10  2010-12-01 09:37:00       1.65   \n",
      "172     lunch bag dolly girl design        10  2010-12-01 09:56:00       1.65   \n",
      "354     lunch bag dolly girl design         1  2010-12-01 11:21:00       1.65   \n",
      "359         lunch bag red retrospot         1  2010-12-01 11:21:00       1.65   \n",
      "360      lunch bag spaceboy design          2  2010-12-01 11:21:00       1.65   \n",
      "...                             ...       ...                  ...        ...   \n",
      "397465    lunch bag alphabet design        10  2011-12-09 09:38:00       1.65   \n",
      "397713      lunch bag  black skull.         1  2011-12-09 11:34:00       1.65   \n",
      "397714      lunch bag red retrospot         1  2011-12-09 11:34:00       1.65   \n",
      "397877  lunch bag red vintage doily        10  2011-12-09 12:20:00       1.65   \n",
      "397880      lunch bag red retrospot        40  2011-12-09 12:23:00       1.45   \n",
      "\n",
      "        CustomerID         Country  amount_spent  \n",
      "93           14688  United Kingdom         16.50  \n",
      "172          17420  United Kingdom         16.50  \n",
      "354          15862  United Kingdom          1.65  \n",
      "359          15862  United Kingdom          1.65  \n",
      "360          15862  United Kingdom          3.30  \n",
      "...            ...             ...           ...  \n",
      "397465       17001  United Kingdom         16.50  \n",
      "397713       14446  United Kingdom          1.65  \n",
      "397714       14446  United Kingdom          1.65  \n",
      "397877       17581  United Kingdom         16.50  \n",
      "397880       13777  United Kingdom         58.00  \n",
      "\n",
      "[11556 rows x 14 columns]\n"
     ]
    }
   ],
   "source": [
    "lunch_bag_orders = orders[orders['Description'].str.contains('lunch bag', case=False)]\n",
    "print(lunch_bag_orders)"
   ]
  },
  {
   "cell_type": "markdown",
   "metadata": {},
   "source": [
    "#### Select all orders that are made in 2011 and are 'lunch bag'  "
   ]
  },
  {
   "cell_type": "code",
   "execution_count": 79,
   "metadata": {},
   "outputs": [
    {
     "name": "stdout",
     "output_type": "stream",
     "text": [
      "        Unnamed: 0  InvoiceNo StockCode  year  month  day  hour  \\\n",
      "26340        42678     540015     20725  2011      1    2    11   \n",
      "26341        42679     540015     20726  2011      1    2    11   \n",
      "26512        42851     540023     22382  2011      1    2    12   \n",
      "26513        42852     540023     20726  2011      1    2    12   \n",
      "26860        43616     540098     22384  2011      1    2    15   \n",
      "...            ...        ...       ...   ...    ...  ...   ...   \n",
      "397465      540436     581486     23207  2011     12    5     9   \n",
      "397713      541695     581538     20727  2011     12    5    11   \n",
      "397714      541696     581538     20725  2011     12    5    11   \n",
      "397877      541862     581581     23681  2011     12    5    12   \n",
      "397880      541865     581583     20725  2011     12    5    12   \n",
      "\n",
      "                        Description  Quantity          InvoiceDate  UnitPrice  \\\n",
      "26340       lunch bag red retrospot        10  2011-01-04 11:40:00       1.65   \n",
      "26341            lunch bag woodland        10  2011-01-04 11:40:00       1.65   \n",
      "26512    lunch bag spaceboy design          2  2011-01-04 12:58:00       1.65   \n",
      "26513            lunch bag woodland         1  2011-01-04 12:58:00       1.65   \n",
      "26860       lunch bag pink polkadot         1  2011-01-04 15:50:00       1.65   \n",
      "...                             ...       ...                  ...        ...   \n",
      "397465    lunch bag alphabet design        10  2011-12-09 09:38:00       1.65   \n",
      "397713      lunch bag  black skull.         1  2011-12-09 11:34:00       1.65   \n",
      "397714      lunch bag red retrospot         1  2011-12-09 11:34:00       1.65   \n",
      "397877  lunch bag red vintage doily        10  2011-12-09 12:20:00       1.65   \n",
      "397880      lunch bag red retrospot        40  2011-12-09 12:23:00       1.45   \n",
      "\n",
      "        CustomerID         Country  amount_spent  \n",
      "26340        13319  United Kingdom         16.50  \n",
      "26341        13319  United Kingdom         16.50  \n",
      "26512        15039  United Kingdom          3.30  \n",
      "26513        15039  United Kingdom          1.65  \n",
      "26860        16241  United Kingdom          1.65  \n",
      "...            ...             ...           ...  \n",
      "397465       17001  United Kingdom         16.50  \n",
      "397713       14446  United Kingdom          1.65  \n",
      "397714       14446  United Kingdom          1.65  \n",
      "397877       17581  United Kingdom         16.50  \n",
      "397880       13777  United Kingdom         58.00  \n",
      "\n",
      "[11234 rows x 14 columns]\n"
     ]
    }
   ],
   "source": [
    "orders_2011_lunch_bag = orders[(orders['InvoiceDate'].str.contains('2011')) & (orders['Description'].str.contains('lunch bag', case=False))]\n",
    "print(orders_2011_lunch_bag)"
   ]
  },
  {
   "cell_type": "markdown",
   "metadata": {},
   "source": [
    "#### Show the frequency distribution of the amount spent in Spain."
   ]
  },
  {
   "cell_type": "code",
   "execution_count": 80,
   "metadata": {},
   "outputs": [
    {
     "data": {
      "image/png": "[encoded data removed]",
      "text/plain": [
       "<Figure size 640x480 with 1 Axes>"
      ]
     },
     "metadata": {},
     "output_type": "display_data"
    }
   ],
   "source": [
    "plt.hist(customers_in_spain['amount_spent'], bins=10)\n",
    "plt.title('Frequency Distribution of Amount Spent in Spain')\n",
    "plt.xlabel('Purchase Price')\n",
    "plt.ylabel('Frequency')\n",
    "plt.show()"
   ]
  },
  {
   "cell_type": "markdown",
   "metadata": {},
   "source": [
    "#### Select all orders made in the month of August"
   ]
  },
  {
   "cell_type": "code",
   "execution_count": 88,
   "metadata": {},
   "outputs": [
    {
     "name": "stdout",
     "output_type": "stream",
     "text": [
      "        Unnamed: 0  InvoiceNo StockCode  year  month  day  hour  \\\n",
      "199475      285421     561904     22075  2011      8    1     8   \n",
      "199476      285422     561904    85049E  2011      8    1     8   \n",
      "199477      285423     561905     21385  2011      8    1     9   \n",
      "199478      285424     561905    84970L  2011      8    1     9   \n",
      "199479      285425     561905    84970S  2011      8    1     9   \n",
      "...            ...        ...       ...   ...    ...  ...   ...   \n",
      "226483      320688     565067     22644  2011      8    3    17   \n",
      "226484      320689     565067     22645  2011      8    3    17   \n",
      "226485      320690     565067     22637  2011      8    3    17   \n",
      "226486      320691     565067     22646  2011      8    3    17   \n",
      "226487      320692     565067     22741  2011      8    3    17   \n",
      "\n",
      "                                Description  Quantity          InvoiceDate  \\\n",
      "199475         6 ribbons elegant christmas         96  2011-08-01 08:30:00   \n",
      "199476            scandinavian reds ribbons       156  2011-08-01 08:30:00   \n",
      "199477      ivory hanging decoration  heart        24  2011-08-01 09:31:00   \n",
      "199478     single heart zinc t-light holder        12  2011-08-01 09:31:00   \n",
      "199479    hanging heart zinc t-light holder        12  2011-08-01 09:31:00   \n",
      "...                                     ...       ...                  ...   \n",
      "226483       ceramic cherry cake money bank         2  2011-08-31 17:16:00   \n",
      "226484  ceramic heart fairy cake money bank         2  2011-08-31 17:16:00   \n",
      "226485                piggy bank retrospot          2  2011-08-31 17:16:00   \n",
      "226486   ceramic strawberry cake money bank         2  2011-08-31 17:16:00   \n",
      "226487                       funky diva pen        48  2011-08-31 17:16:00   \n",
      "\n",
      "        UnitPrice  CustomerID         Country  amount_spent  \n",
      "199475       1.45       17941  United Kingdom        139.20  \n",
      "199476       1.06       17941  United Kingdom        165.36  \n",
      "199477       0.85       14947  United Kingdom         20.40  \n",
      "199478       0.95       14947  United Kingdom         11.40  \n",
      "199479       0.85       14947  United Kingdom         10.20  \n",
      "...           ...         ...             ...           ...  \n",
      "226483       1.45       15856  United Kingdom          2.90  \n",
      "226484       1.45       15856  United Kingdom          2.90  \n",
      "226485       2.55       15856  United Kingdom          5.10  \n",
      "226486       1.45       15856  United Kingdom          2.90  \n",
      "226487       0.85       15856  United Kingdom         40.80  \n",
      "\n",
      "[27013 rows x 14 columns]\n"
     ]
    }
   ],
   "source": [
    "orders_in_august = orders[orders['InvoiceDate'].str.contains('-08-', case=False)]\n",
    "print(orders_in_august)"
   ]
  },
  {
   "cell_type": "markdown",
   "metadata": {},
   "source": [
    "#### Select how many orders are made by countries in the month of August\n",
    "##### Hint: Use value_counts()"
   ]
  },
  {
   "cell_type": "code",
   "execution_count": 89,
   "metadata": {},
   "outputs": [
    {
     "name": "stdout",
     "output_type": "stream",
     "text": [
      "Country\n",
      "United Kingdom     23105\n",
      "Germany              795\n",
      "EIRE                 593\n",
      "France               569\n",
      "Netherlands          280\n",
      "Switzerland          267\n",
      "Spain                252\n",
      "Belgium              194\n",
      "Israel               171\n",
      "Channel Islands      140\n",
      "Australia            107\n",
      "Italy                 95\n",
      "Austria               88\n",
      "Norway                77\n",
      "Finland               61\n",
      "Malta                 55\n",
      "Portugal              41\n",
      "Sweden                40\n",
      "Unspecified           23\n",
      "Iceland               22\n",
      "Poland                17\n",
      "Denmark               16\n",
      "Canada                 5\n",
      "Name: count, dtype: int64\n"
     ]
    }
   ],
   "source": [
    "orders_in_august_by_country = orders_in_august['Country'].value_counts()\n",
    "print(orders_in_august_by_country)"
   ]
  },
  {
   "cell_type": "markdown",
   "metadata": {},
   "source": [
    "#### What's the  average amount of money spent by country"
   ]
  },
  {
   "cell_type": "code",
   "execution_count": 90,
   "metadata": {
    "scrolled": true
   },
   "outputs": [
    {
     "name": "stdout",
     "output_type": "stream",
     "text": [
      "Country\n",
      "Australia               116.895620\n",
      "Austria                  25.624824\n",
      "Bahrain                  32.258824\n",
      "Belgium                  20.283772\n",
      "Brazil                   35.737500\n",
      "Canada                   24.280662\n",
      "Channel Islands          27.340160\n",
      "Cyprus                   22.134169\n",
      "Czech Republic           33.069600\n",
      "Denmark                  49.882474\n",
      "EIRE                     36.687745\n",
      "European Community       21.670833\n",
      "Finland                  32.913985\n",
      "France                   25.056827\n",
      "Germany                  25.311562\n",
      "Greece                   32.831172\n",
      "Iceland                  23.681319\n",
      "Israel                   29.119718\n",
      "Italy                    23.064960\n",
      "Japan                   116.561900\n",
      "Lebanon                  37.641778\n",
      "Lithuania                47.458857\n",
      "Malta                    24.335625\n",
      "Netherlands             120.798282\n",
      "Norway                   33.736418\n",
      "Poland                   22.226212\n",
      "Portugal                 22.872702\n",
      "RSA                      17.281207\n",
      "Saudi Arabia             16.213333\n",
      "Singapore                95.852658\n",
      "Spain                    24.779521\n",
      "Sweden                   85.096075\n",
      "Switzerland              30.642752\n",
      "USA                      20.002179\n",
      "United Arab Emirates     27.974706\n",
      "United Kingdom           20.625073\n",
      "Unspecified              10.930615\n",
      "Name: amount_spent, dtype: float64\n"
     ]
    }
   ],
   "source": [
    "avg_spent_by_country = orders.groupby('Country')['amount_spent'].mean()\n",
    "print(avg_spent_by_country)"
   ]
  },
  {
   "cell_type": "markdown",
   "metadata": {},
   "source": [
    "#### What's the most expensive item?"
   ]
  },
  {
   "cell_type": "code",
   "execution_count": 91,
   "metadata": {
    "scrolled": false
   },
   "outputs": [
    {
     "name": "stdout",
     "output_type": "stream",
     "text": [
      "Unnamed: 0                   173382\n",
      "InvoiceNo                    551697\n",
      "StockCode                      POST\n",
      "year                           2011\n",
      "month                             5\n",
      "day                               2\n",
      "hour                             13\n",
      "Description                 postage\n",
      "Quantity                          1\n",
      "InvoiceDate     2011-05-03 13:46:00\n",
      "UnitPrice                   8142.75\n",
      "CustomerID                    16029\n",
      "Country              United Kingdom\n",
      "amount_spent                8142.75\n",
      "Name: 118352, dtype: object\n"
     ]
    }
   ],
   "source": [
    "most_expensive_item = orders.loc[orders['UnitPrice'].idxmax()]\n",
    "print(most_expensive_item)"
   ]
  },
  {
   "cell_type": "markdown",
   "metadata": {},
   "source": [
    "#### What was the average amount spent per year ?"
   ]
  },
  {
   "cell_type": "code",
   "execution_count": 92,
   "metadata": {},
   "outputs": [
    {
     "name": "stdout",
     "output_type": "stream",
     "text": [
      "year\n",
      "2010    21.892733\n",
      "2011    22.430074\n",
      "Name: amount_spent, dtype: float64\n"
     ]
    }
   ],
   "source": [
    "avg_spent_per_year = orders.groupby('year')['amount_spent'].mean()\n",
    "print(avg_spent_per_year)"
   ]
  }
 ],
 "metadata": {
  "anaconda-cloud": {},
  "kernelspec": {
   "display_name": "Python 3 (ipykernel)",
   "language": "python",
   "name": "python3"
  },
  "language_info": {
   "codemirror_mode": {
    "name": "ipython",
    "version": 3
   },
   "file_extension": ".py",
   "mimetype": "text/x-python",
   "name": "python",
   "nbconvert_exporter": "python",
   "pygments_lexer": "ipython3",
   "version": "3.9.6"
  }
 },
 "nbformat": 4,
 "nbformat_minor": 1
}
